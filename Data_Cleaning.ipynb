{
 "cells": [
  {
   "cell_type": "markdown",
   "metadata": {},
   "source": [
    "**Work book for Data cleaning**"
   ]
  },
  {
   "cell_type": "code",
   "execution_count": 7,
   "metadata": {},
   "outputs": [],
   "source": [
    "#library and function tab\n",
    "import pandas as pd\n",
    "import numpy as np\n",
    "import glob"
   ]
  },
  {
   "cell_type": "code",
   "execution_count": 28,
   "metadata": {},
   "outputs": [
    {
     "name": "stdout",
     "output_type": "stream",
     "text": [
      "    class  redshift  redshift_err  green_mag  green_err  green_ext   red_mag  \\\n",
      "0  GALAXY  0.185703      0.000051   20.27926   0.033027   0.404524  19.03009   \n",
      "1  GALAXY  0.353038      0.000067   20.41617   0.051364   0.068213  18.74046   \n",
      "2  GALAXY  0.527042      0.000099   22.38628   0.191882   0.094343  20.59653   \n",
      "3  GALAXY  0.397942      0.000153   20.55792   0.069158   0.284084  18.78533   \n",
      "4  GALAXY  0.613297      0.000307   21.39559   0.219298   0.173314  19.90453   \n",
      "\n",
      "    red_err   red_ext  \n",
      "0  0.017111  0.279848  \n",
      "1  0.017799  0.047189  \n",
      "2  0.058532  0.065266  \n",
      "3  0.023086  0.196528  \n",
      "4  0.089911  0.119898  \n"
     ]
    }
   ],
   "source": [
    "#import files using glob\n",
    "files=glob.glob('roughdata/roughdata*.csv') #use glob to make list of file names\n",
    "dataframes=[]\n",
    "for filename in files:\n",
    "    dataframes.append(pd.read_csv(filename,header=None,names=['class','redshift','redshift_err','green_mag','green_err',\n",
    "                  'green_ext','red_mag','red_err','red_ext'],\n",
    "                                 skiprows=2))\n",
    "print(dataframes[0].head()) #we used skiprows=2 to bypass the headers and useless naming\n",
    "#then renaes the columns as well"
   ]
  },
  {
   "cell_type": "code",
   "execution_count": 29,
   "metadata": {},
   "outputs": [
    {
     "name": "stdout",
     "output_type": "stream",
     "text": [
      "<class 'pandas.core.frame.DataFrame'>\n",
      "RangeIndex: 14089 entries, 0 to 14088\n",
      "Data columns (total 9 columns):\n",
      "class           14089 non-null object\n",
      "redshift        14089 non-null float64\n",
      "redshift_err    14089 non-null float64\n",
      "green_mag       14089 non-null float64\n",
      "green_err       14089 non-null float64\n",
      "green_ext       14089 non-null float64\n",
      "red_mag         14089 non-null float64\n",
      "red_err         14089 non-null float64\n",
      "red_ext         14089 non-null float64\n",
      "dtypes: float64(8), object(1)\n",
      "memory usage: 990.7+ KB\n",
      "None\n",
      "<class 'pandas.core.frame.DataFrame'>\n",
      "RangeIndex: 7125 entries, 0 to 7124\n",
      "Data columns (total 9 columns):\n",
      "class           7125 non-null object\n",
      "redshift        7125 non-null float64\n",
      "redshift_err    7125 non-null float64\n",
      "green_mag       7125 non-null float64\n",
      "green_err       7125 non-null float64\n",
      "green_ext       7125 non-null float64\n",
      "red_mag         7125 non-null float64\n",
      "red_err         7125 non-null float64\n",
      "red_ext         7125 non-null float64\n",
      "dtypes: float64(8), object(1)\n",
      "memory usage: 501.1+ KB\n",
      "None\n"
     ]
    }
   ],
   "source": [
    "#now we want to to check our the data overall, such as data types\n",
    "#and to change the column names to nicer things\n",
    "print(dataframes[0].info())\n",
    "print(dataframes[-1].info())\n",
    "#so they loaded in as floats which saves some cleaning time"
   ]
  },
  {
   "cell_type": "code",
   "execution_count": 32,
   "metadata": {},
   "outputs": [],
   "source": [
    "#output all into different clean csvs\n",
    "i=0\n",
    "while i < len(dataframes):\n",
    "    if i < 5:\n",
    "        dataframes[i].to_csv('cleandata/cleandata15k_%s.csv' %(1+i),index=False)\n",
    "    if 4< i <10:\n",
    "        dataframes[i].to_csv('cleandata/cleandata20k_%s.csv' %(-4+i),index=False)\n",
    "    if 9< i < 15:\n",
    "        dataframes[i].to_csv('cleandata/cleandata28k_%s.csv' %(-9+i),index=False)\n",
    "    if i > 14:\n",
    "        dataframes[i].to_csv('cleandata/cleandata7k_%s.csv' %(-14+i),index=False)\n",
    "    i+=1"
   ]
  },
  {
   "cell_type": "code",
   "execution_count": null,
   "metadata": {},
   "outputs": [],
   "source": []
  }
 ],
 "metadata": {
  "kernelspec": {
   "display_name": "Python 3",
   "language": "python",
   "name": "python3"
  },
  "language_info": {
   "codemirror_mode": {
    "name": "ipython",
    "version": 3
   },
   "file_extension": ".py",
   "mimetype": "text/x-python",
   "name": "python",
   "nbconvert_exporter": "python",
   "pygments_lexer": "ipython3",
   "version": "3.7.1"
  }
 },
 "nbformat": 4,
 "nbformat_minor": 2
}
