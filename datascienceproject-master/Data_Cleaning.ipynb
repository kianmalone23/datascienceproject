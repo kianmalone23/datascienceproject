{
 "cells": [
  {
   "cell_type": "markdown",
   "metadata": {},
   "source": [
    "**Work book for Data cleaning**"
   ]
  },
  {
   "cell_type": "code",
   "execution_count": 16,
   "metadata": {},
   "outputs": [],
   "source": [
    "#library and function tab\n",
    "import pandas as pd\n",
    "import numpy as np\n",
    "import glob"
   ]
  },
  {
   "cell_type": "code",
   "execution_count": 17,
   "metadata": {},
   "outputs": [
    {
     "name": "stdout",
     "output_type": "stream",
     "text": [
      "    class  redshift  redshift_err  green_mag  green_err  green_ext   red_mag  \\\n",
      "0  GALAXY  0.373254      0.000107   21.36068   0.094789   0.151763  19.52611   \n",
      "1  GALAXY  0.749294      0.000304   23.21393   0.387737   0.140142  21.40241   \n",
      "2  GALAXY  0.493926      0.000136   22.36672   0.152339   0.111453  20.79320   \n",
      "3  GALAXY  0.670370      0.000124   23.93688   0.808077   0.164131  21.21455   \n",
      "4  GALAXY  0.045731      0.000008   18.34837   0.008015   0.080311  17.56805   \n",
      "\n",
      "    red_err   red_ext  \n",
      "0  0.028657  0.104989  \n",
      "1  0.120418  0.096950  \n",
      "2  0.055962  0.077103  \n",
      "3  0.121259  0.113545  \n",
      "4  0.006377  0.055559  \n"
     ]
    }
   ],
   "source": [
    "#import files using glob\n",
    "files=glob.glob('roughdata/roughdata*.csv') #use glob to make list of file names\n",
    "dataframes=[]\n",
    "for filename in files:\n",
    "    dataframes.append(pd.read_csv(filename,header=None,names=['class','redshift','redshift_err','green_mag','green_err',\n",
    "                  'green_ext','red_mag','red_err','red_ext'],\n",
    "                                 skiprows=2))\n",
    "\n",
    "print(dataframes[-1].head()) #we used skiprows=2 to bypass the headers and useless naming\n",
    "#then renaes the columns as well"
   ]
  },
  {
   "cell_type": "code",
   "execution_count": null,
   "metadata": {},
   "outputs": [],
   "source": [
    "for i in range(len(dataframes)):\n",
    "    dataframes[i]['redshift'] = float(dataframes[i]['redshift'])\n",
    "    dataframes[i]['redshift_err'] = float(dataframes[i]['redshift_err'])\n",
    "    dataframes[i]['green_mag'] = float(dataframes[i]['green_mag'])\n",
    "    dataframes[i]['green_err'] = float(dataframes[i]['green_err'])\n",
    "    dataframes[i]['green_ext'] = float(dataframes[i]['green_ext'])\n",
    "    dataframes[i]['red_mag'] = float(dataframes[i]['red_mag'])\n",
    "    dataframes[i]['red_err'] = float(dataframes[i]['red_err'])\n",
    "    dataframes[i]['red_ext'] = float(dataframes[i]['red_ext'])\n",
    "                    "
   ]
  },
  {
   "cell_type": "code",
   "execution_count": 7,
   "metadata": {},
   "outputs": [
    {
     "name": "stdout",
     "output_type": "stream",
     "text": [
      "<class 'pandas.core.frame.DataFrame'>\n",
      "RangeIndex: 14089 entries, 0 to 14088\n",
      "Data columns (total 9 columns):\n",
      "class           14089 non-null object\n",
      "redshift        14089 non-null float64\n",
      "redshift_err    14089 non-null float64\n",
      "green_mag       14089 non-null float64\n",
      "green_err       14089 non-null float64\n",
      "green_ext       14089 non-null float64\n",
      "red_mag         14089 non-null float64\n",
      "red_err         14089 non-null float64\n",
      "red_ext         14089 non-null float64\n",
      "dtypes: float64(8), object(1)\n",
      "memory usage: 990.7+ KB\n",
      "None\n",
      "<class 'pandas.core.frame.DataFrame'>\n",
      "RangeIndex: 14246 entries, 0 to 14245\n",
      "Data columns (total 9 columns):\n",
      "class           14246 non-null object\n",
      "redshift        14246 non-null float64\n",
      "redshift_err    14246 non-null float64\n",
      "green_mag       14246 non-null float64\n",
      "green_err       14246 non-null float64\n",
      "green_ext       14246 non-null float64\n",
      "red_mag         14246 non-null float64\n",
      "red_err         14246 non-null float64\n",
      "red_ext         14246 non-null float64\n",
      "dtypes: float64(8), object(1)\n",
      "memory usage: 1001.8+ KB\n",
      "None\n"
     ]
    }
   ],
   "source": [
    "#now we want to to check our the data overall, such as data types\n",
    "#and to change the column names to nicer things\n",
    "print(dataframes[0].info())\n",
    "print(dataframes[-1].info())"
   ]
  },
  {
   "cell_type": "code",
   "execution_count": 18,
   "metadata": {},
   "outputs": [],
   "source": [
    "#output all into different clean csvs\n",
    "i=0\n",
    "while i < len(dataframes):\n",
    "    if i < 10:\n",
    "        dataframes[i].to_csv('cleandata/cleandata14k_%s.csv' %(1+i),index=False)\n",
    "    if 9< i <20:\n",
    "        dataframes[i].to_csv('cleandata/cleandata20k_%s.csv' %(-9+i),index=False)\n",
    "    if 19< i < 31:\n",
    "        dataframes[i].to_csv('cleandata/cleandata28k_%s.csv' %(-19+i),index=False)\n",
    "    if 29 < i < 41:\n",
    "        dataframes[i].to_csv('cleandata/cleandata7k_%s.csv' %(-29+i),index=False)\n",
    "    i+=1"
   ]
  },
  {
   "cell_type": "code",
   "execution_count": null,
   "metadata": {},
   "outputs": [],
   "source": []
  }
 ],
 "metadata": {
  "kernelspec": {
   "display_name": "Python 3",
   "language": "python",
   "name": "python3"
  },
  "language_info": {
   "codemirror_mode": {
    "name": "ipython",
    "version": 3
   },
   "file_extension": ".py",
   "mimetype": "text/x-python",
   "name": "python",
   "nbconvert_exporter": "python",
   "pygments_lexer": "ipython3",
   "version": "3.7.1"
  }
 },
 "nbformat": 4,
 "nbformat_minor": 2
}
