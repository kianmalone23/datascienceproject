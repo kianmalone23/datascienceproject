{
 "cells": [
  {
   "cell_type": "code",
   "execution_count": 2,
   "metadata": {},
   "outputs": [],
   "source": [
    "#WARNING! Do not attempt to run this notebook if you are not on a modern computer.\n",
    "#This code runs well over a hundred predictive models and\n",
    "#We have removed for loops for the more intensive models to make them run\n",
    "#only once rather than 40 times, but caution is still advised. Don't crash\n",
    "#your poor laptop like we did (so many times)!\n",
    "\n",
    "#Also note that we have included only the final versions of each of our models.\n",
    "#Parameters were chosen after an intensive process that usually had to run\n",
    "#overnight in order to test hundreds of possible combinations.\n",
    "\n",
    "#We utilized methods discussed in class like looping over many parameter combinations\n",
    "#and plotting results given in the \"metrics\" module of sklearn.\n",
    "\n",
    "#Again, this took many hours, so it was not included here.\n",
    "\n",
    "#Initializing\n",
    "import pandas as pd\n",
    "import numpy as np\n",
    "import glob\n",
    "import statsmodels.formula.api as sm\n",
    "import scipy as sc\n",
    "import matplotlib.pyplot as plt\n",
    "import matplotlib.cm as cm\n",
    "from matplotlib.colors import ListedColormap\n",
    "from sklearn.cluster import KMeans, AgglomerativeClustering, DBSCAN\n",
    "from sklearn.neighbors import KNeighborsClassifier\n",
    "from sklearn import metrics, svm\n",
    "from sklearn.metrics import silhouette_samples, silhouette_score\n",
    "\n",
    "%matplotlib inline "
   ]
  },
  {
   "cell_type": "code",
   "execution_count": 3,
   "metadata": {},
   "outputs": [
    {
     "name": "stdout",
     "output_type": "stream",
     "text": [
      "  class  redshift  redshift_err  green_mag  green_err  green_ext   red_mag  \\\n",
      "0   QSO  2.394828      0.000523   21.59155   0.052753   0.053609  21.73227   \n",
      "1   QSO  2.835478      0.000364   19.03116   0.010645   0.088698  18.89552   \n",
      "2   QSO  0.724055      0.262761   22.39019   0.115262   0.169662  21.73291   \n",
      "3   QSO  0.916071      0.000296   19.29613   0.012580   0.177208  19.10373   \n",
      "4   QSO  1.871305      0.000318   19.30308   0.012689   0.158918  19.14062   \n",
      "\n",
      "    red_err   red_ext       velocity          Flux      distance  \n",
      "0  0.093848  0.037086  251920.860836  6.565051e-17  11348.034569  \n",
      "1  0.011655  0.061361  261628.811052  6.940554e-16   3490.138408  \n",
      "2  0.088681  0.117372  148853.427213  3.146170e-17  16392.630515  \n",
      "3  0.012747  0.122592  171438.185701  5.437586e-16   3943.089639  \n",
      "4  0.013156  0.109939  234933.147635  5.402890e-16   3955.730083  \n"
     ]
    }
   ],
   "source": [
    "#Reloading the data\n",
    "cleanfiles=glob.glob('outliers_ded/no_outliers*.csv') #use glob to make list of file names\n",
    "data=[]\n",
    "for filename in cleanfiles:\n",
    "    data.append(pd.read_csv(filename))\n",
    "print(data[0].head())"
   ]
  },
  {
   "cell_type": "code",
   "execution_count": 4,
   "metadata": {},
   "outputs": [],
   "source": [
    "#Pandas can create dummies for us because they are awesome.\n",
    "\n",
    "labelframe = [0]*40\n",
    "mask = ['class']\n",
    "\n",
    "for i in range(len(data)):\n",
    "    try:\n",
    "        dummy = pd.get_dummies(data[i], columns=mask)\n",
    "        labelframe[i] = dummy\n",
    "    except:\n",
    "        continue   "
   ]
  },
  {
   "cell_type": "code",
   "execution_count": 4,
   "metadata": {},
   "outputs": [
    {
     "data": {
      "text/plain": [
       "redshift        float64\n",
       "redshift_err    float64\n",
       "green_mag       float64\n",
       "green_err       float64\n",
       "green_ext       float64\n",
       "red_mag         float64\n",
       "red_err         float64\n",
       "red_ext         float64\n",
       "velocity        float64\n",
       "Flux            float64\n",
       "distance        float64\n",
       "class_GALAXY      uint8\n",
       "class_QSO         uint8\n",
       "dtype: object"
      ]
     },
     "execution_count": 4,
     "metadata": {},
     "output_type": "execute_result"
    }
   ],
   "source": [
    "labelframe[0].dtypes"
   ]
  },
  {
   "cell_type": "code",
   "execution_count": 5,
   "metadata": {},
   "outputs": [
    {
     "data": {
      "text/html": [
       "<div>\n",
       "<style scoped>\n",
       "    .dataframe tbody tr th:only-of-type {\n",
       "        vertical-align: middle;\n",
       "    }\n",
       "\n",
       "    .dataframe tbody tr th {\n",
       "        vertical-align: top;\n",
       "    }\n",
       "\n",
       "    .dataframe thead th {\n",
       "        text-align: right;\n",
       "    }\n",
       "</style>\n",
       "<table border=\"1\" class=\"dataframe\">\n",
       "  <thead>\n",
       "    <tr style=\"text-align: right;\">\n",
       "      <th></th>\n",
       "      <th>redshift</th>\n",
       "      <th>redshift_err</th>\n",
       "      <th>green_mag</th>\n",
       "      <th>green_err</th>\n",
       "      <th>green_ext</th>\n",
       "      <th>red_mag</th>\n",
       "      <th>red_err</th>\n",
       "      <th>red_ext</th>\n",
       "      <th>velocity</th>\n",
       "      <th>Flux</th>\n",
       "      <th>distance</th>\n",
       "      <th>class_GALAXY</th>\n",
       "      <th>class_QSO</th>\n",
       "      <th>M_Absolute</th>\n",
       "      <th>G_minus_R</th>\n",
       "    </tr>\n",
       "  </thead>\n",
       "  <tbody>\n",
       "    <tr>\n",
       "      <th>0</th>\n",
       "      <td>1.745513</td>\n",
       "      <td>0.000946</td>\n",
       "      <td>21.12132</td>\n",
       "      <td>0.038946</td>\n",
       "      <td>0.059247</td>\n",
       "      <td>20.56920</td>\n",
       "      <td>0.038601</td>\n",
       "      <td>0.040987</td>\n",
       "      <td>229565.702602</td>\n",
       "      <td>1.012349e-16</td>\n",
       "      <td>9138.494401</td>\n",
       "      <td>0</td>\n",
       "      <td>1</td>\n",
       "      <td>-31.439086</td>\n",
       "      <td>0.55212</td>\n",
       "    </tr>\n",
       "    <tr>\n",
       "      <th>1</th>\n",
       "      <td>2.403731</td>\n",
       "      <td>0.000524</td>\n",
       "      <td>21.25386</td>\n",
       "      <td>0.033762</td>\n",
       "      <td>0.178415</td>\n",
       "      <td>21.40829</td>\n",
       "      <td>0.054750</td>\n",
       "      <td>0.123427</td>\n",
       "      <td>252151.092295</td>\n",
       "      <td>8.960126e-17</td>\n",
       "      <td>9713.654453</td>\n",
       "      <td>0</td>\n",
       "      <td>1</td>\n",
       "      <td>-32.282305</td>\n",
       "      <td>-0.15443</td>\n",
       "    </tr>\n",
       "    <tr>\n",
       "      <th>2</th>\n",
       "      <td>2.206132</td>\n",
       "      <td>0.000227</td>\n",
       "      <td>20.77077</td>\n",
       "      <td>0.025921</td>\n",
       "      <td>0.113221</td>\n",
       "      <td>20.83486</td>\n",
       "      <td>0.036250</td>\n",
       "      <td>0.078326</td>\n",
       "      <td>246634.385114</td>\n",
       "      <td>1.398138e-16</td>\n",
       "      <td>7776.150370</td>\n",
       "      <td>0</td>\n",
       "      <td>1</td>\n",
       "      <td>-32.381727</td>\n",
       "      <td>-0.06409</td>\n",
       "    </tr>\n",
       "    <tr>\n",
       "      <th>3</th>\n",
       "      <td>2.819490</td>\n",
       "      <td>0.000214</td>\n",
       "      <td>18.52347</td>\n",
       "      <td>0.007180</td>\n",
       "      <td>0.128278</td>\n",
       "      <td>18.16512</td>\n",
       "      <td>0.007021</td>\n",
       "      <td>0.088742</td>\n",
       "      <td>261329.182667</td>\n",
       "      <td>1.107822e-15</td>\n",
       "      <td>2762.515033</td>\n",
       "      <td>0</td>\n",
       "      <td>1</td>\n",
       "      <td>-36.288460</td>\n",
       "      <td>0.35835</td>\n",
       "    </tr>\n",
       "    <tr>\n",
       "      <th>4</th>\n",
       "      <td>0.399321</td>\n",
       "      <td>0.000040</td>\n",
       "      <td>19.97010</td>\n",
       "      <td>0.018123</td>\n",
       "      <td>0.057557</td>\n",
       "      <td>19.87769</td>\n",
       "      <td>0.021732</td>\n",
       "      <td>0.039818</td>\n",
       "      <td>97099.829021</td>\n",
       "      <td>2.922928e-16</td>\n",
       "      <td>5378.122004</td>\n",
       "      <td>0</td>\n",
       "      <td>1</td>\n",
       "      <td>-24.754237</td>\n",
       "      <td>0.09241</td>\n",
       "    </tr>\n",
       "  </tbody>\n",
       "</table>\n",
       "</div>"
      ],
      "text/plain": [
       "   redshift  redshift_err  green_mag  green_err  green_ext   red_mag  \\\n",
       "0  1.745513      0.000946   21.12132   0.038946   0.059247  20.56920   \n",
       "1  2.403731      0.000524   21.25386   0.033762   0.178415  21.40829   \n",
       "2  2.206132      0.000227   20.77077   0.025921   0.113221  20.83486   \n",
       "3  2.819490      0.000214   18.52347   0.007180   0.128278  18.16512   \n",
       "4  0.399321      0.000040   19.97010   0.018123   0.057557  19.87769   \n",
       "\n",
       "    red_err   red_ext       velocity          Flux     distance  class_GALAXY  \\\n",
       "0  0.038601  0.040987  229565.702602  1.012349e-16  9138.494401             0   \n",
       "1  0.054750  0.123427  252151.092295  8.960126e-17  9713.654453             0   \n",
       "2  0.036250  0.078326  246634.385114  1.398138e-16  7776.150370             0   \n",
       "3  0.007021  0.088742  261329.182667  1.107822e-15  2762.515033             0   \n",
       "4  0.021732  0.039818   97099.829021  2.922928e-16  5378.122004             0   \n",
       "\n",
       "   class_QSO  M_Absolute  G_minus_R  \n",
       "0          1  -31.439086    0.55212  \n",
       "1          1  -32.282305   -0.15443  \n",
       "2          1  -32.381727   -0.06409  \n",
       "3          1  -36.288460    0.35835  \n",
       "4          1  -24.754237    0.09241  "
      ]
     },
     "execution_count": 5,
     "metadata": {},
     "output_type": "execute_result"
    }
   ],
   "source": [
    "#Running some calculations to get the variables we need for our clustering and our classifiers, and then \n",
    "#fixing some minor problems in the data\n",
    "i=0\n",
    "c=299792.458 #speed of light in km/s\n",
    "H_o = 43.57285 #our experimental value from part 1\n",
    "for i in range(len(labelframe)):\n",
    "    M_Abs=[]\n",
    "    Term2 = []\n",
    "    m_apparent = []\n",
    "    green = []\n",
    "    red = []\n",
    "    g_r = []\n",
    "    for m in labelframe[i][\"red_mag\"]:\n",
    "        m_apparent.append(m)\n",
    "    for z in labelframe[i]['redshift']:\n",
    "        #for our data, and for the purposes of these calculations, \n",
    "        #there shouldn't be any negative redshifts. Luckily, only a handful are below\n",
    "        #zero in any dataframe in the collection. We decided to set them to \n",
    "        #zero if they were negative, but this caused errors in the calculations\n",
    "        #that followed. We then decided that 1e-16 was \"close enough\" to zero for our purposes.\n",
    "        if z<0:\n",
    "            z=1e-16\n",
    "        Term2.append(5*np.log((z*c)/H_o)+5) #Part of our calculation for Absolute Magnitude\n",
    "    for a in range(len(m_apparent)):\n",
    "        M_Abs.append(m_apparent[a] - Term2[a]) #2nd step of our calculation for Absolute Magnitude\n",
    "    for j in range(len(M_Abs)):\n",
    "        M_Abs[j] = M_Abs[j] - labelframe[i][\"red_ext\"][j] #3rd step of our calculation, subtracting off exctinction\n",
    "    for g in labelframe[i][\"green_mag\"]:\n",
    "        green.append(g) #\"g\" in \"g-r\"\n",
    "    for r in labelframe[i][\"red_mag\"]:\n",
    "        red.append(r) #\"r\" in \"g-r\"\n",
    "    for rg in range(len(green)):\n",
    "        g_r.append(green[rg]-red[rg]) #Finishing calculation for (g-r)\n",
    "    labelframe[i]['M_Absolute']=M_Abs\n",
    "    labelframe[i][\"G_minus_R\"]=g_r\n",
    "    \n",
    "\n",
    "labelframe[1].head()"
   ]
  },
  {
   "cell_type": "code",
   "execution_count": 6,
   "metadata": {},
   "outputs": [
    {
     "data": {
      "text/html": [
       "<div>\n",
       "<style scoped>\n",
       "    .dataframe tbody tr th:only-of-type {\n",
       "        vertical-align: middle;\n",
       "    }\n",
       "\n",
       "    .dataframe tbody tr th {\n",
       "        vertical-align: top;\n",
       "    }\n",
       "\n",
       "    .dataframe thead th {\n",
       "        text-align: right;\n",
       "    }\n",
       "</style>\n",
       "<table border=\"1\" class=\"dataframe\">\n",
       "  <thead>\n",
       "    <tr style=\"text-align: right;\">\n",
       "      <th></th>\n",
       "      <th>redshift</th>\n",
       "      <th>redshift_err</th>\n",
       "      <th>green_mag</th>\n",
       "      <th>green_err</th>\n",
       "      <th>green_ext</th>\n",
       "      <th>red_mag</th>\n",
       "      <th>red_err</th>\n",
       "      <th>red_ext</th>\n",
       "      <th>velocity</th>\n",
       "      <th>Flux</th>\n",
       "      <th>distance</th>\n",
       "      <th>class_GALAXY</th>\n",
       "      <th>class_QSO</th>\n",
       "      <th>M_Absolute</th>\n",
       "      <th>G_minus_R</th>\n",
       "    </tr>\n",
       "  </thead>\n",
       "  <tbody>\n",
       "    <tr>\n",
       "      <th>count</th>\n",
       "      <td>14164.000000</td>\n",
       "      <td>14164.000000</td>\n",
       "      <td>14164.000000</td>\n",
       "      <td>14164.000000</td>\n",
       "      <td>14164.000000</td>\n",
       "      <td>14164.000000</td>\n",
       "      <td>14164.000000</td>\n",
       "      <td>14164.000000</td>\n",
       "      <td>14164.000000</td>\n",
       "      <td>1.416400e+04</td>\n",
       "      <td>14164.000000</td>\n",
       "      <td>14164.000000</td>\n",
       "      <td>14164.000000</td>\n",
       "      <td>14164.000000</td>\n",
       "      <td>14164.000000</td>\n",
       "    </tr>\n",
       "    <tr>\n",
       "      <th>mean</th>\n",
       "      <td>0.621464</td>\n",
       "      <td>0.011147</td>\n",
       "      <td>19.784473</td>\n",
       "      <td>-0.617276</td>\n",
       "      <td>0.124662</td>\n",
       "      <td>18.639190</td>\n",
       "      <td>-0.668014</td>\n",
       "      <td>0.086241</td>\n",
       "      <td>108257.817901</td>\n",
       "      <td>inf</td>\n",
       "      <td>1498.091452</td>\n",
       "      <td>0.812059</td>\n",
       "      <td>0.187941</td>\n",
       "      <td>-25.610948</td>\n",
       "      <td>1.145283</td>\n",
       "    </tr>\n",
       "    <tr>\n",
       "      <th>std</th>\n",
       "      <td>0.681362</td>\n",
       "      <td>0.456484</td>\n",
       "      <td>84.210065</td>\n",
       "      <td>84.017140</td>\n",
       "      <td>0.142622</td>\n",
       "      <td>84.195760</td>\n",
       "      <td>84.016640</td>\n",
       "      <td>0.098665</td>\n",
       "      <td>67959.561880</td>\n",
       "      <td>NaN</td>\n",
       "      <td>3558.075815</td>\n",
       "      <td>0.390679</td>\n",
       "      <td>0.390679</td>\n",
       "      <td>84.314417</td>\n",
       "      <td>0.653753</td>\n",
       "    </tr>\n",
       "    <tr>\n",
       "      <th>min</th>\n",
       "      <td>-0.000325</td>\n",
       "      <td>-6.000000</td>\n",
       "      <td>-9999.000000</td>\n",
       "      <td>-9999.000000</td>\n",
       "      <td>0.009221</td>\n",
       "      <td>-9999.000000</td>\n",
       "      <td>-9999.000000</td>\n",
       "      <td>0.006379</td>\n",
       "      <td>-97.440285</td>\n",
       "      <td>2.015942e-18</td>\n",
       "      <td>0.000000</td>\n",
       "      <td>0.000000</td>\n",
       "      <td>0.000000</td>\n",
       "      <td>-10035.602686</td>\n",
       "      <td>-3.312290</td>\n",
       "    </tr>\n",
       "    <tr>\n",
       "      <th>25%</th>\n",
       "      <td>0.176800</td>\n",
       "      <td>0.000032</td>\n",
       "      <td>18.762995</td>\n",
       "      <td>0.011588</td>\n",
       "      <td>0.062427</td>\n",
       "      <td>17.777385</td>\n",
       "      <td>0.008625</td>\n",
       "      <td>0.043187</td>\n",
       "      <td>48379.127559</td>\n",
       "      <td>4.503012e-17</td>\n",
       "      <td>0.728498</td>\n",
       "      <td>1.000000</td>\n",
       "      <td>0.000000</td>\n",
       "      <td>-26.222650</td>\n",
       "      <td>0.637123</td>\n",
       "    </tr>\n",
       "    <tr>\n",
       "      <th>50%</th>\n",
       "      <td>0.470836</td>\n",
       "      <td>0.000108</td>\n",
       "      <td>20.984185</td>\n",
       "      <td>0.048101</td>\n",
       "      <td>0.096387</td>\n",
       "      <td>19.833070</td>\n",
       "      <td>0.027280</td>\n",
       "      <td>0.066680</td>\n",
       "      <td>110251.853500</td>\n",
       "      <td>1.148641e-16</td>\n",
       "      <td>2.666513</td>\n",
       "      <td>1.000000</td>\n",
       "      <td>0.000000</td>\n",
       "      <td>-25.314471</td>\n",
       "      <td>1.225465</td>\n",
       "    </tr>\n",
       "    <tr>\n",
       "      <th>75%</th>\n",
       "      <td>0.627544</td>\n",
       "      <td>0.000188</td>\n",
       "      <td>22.000887</td>\n",
       "      <td>0.126090</td>\n",
       "      <td>0.154049</td>\n",
       "      <td>20.674855</td>\n",
       "      <td>0.055461</td>\n",
       "      <td>0.106570</td>\n",
       "      <td>135473.079875</td>\n",
       "      <td>8.885057e-16</td>\n",
       "      <td>4.579538</td>\n",
       "      <td>1.000000</td>\n",
       "      <td>0.000000</td>\n",
       "      <td>-22.820959</td>\n",
       "      <td>1.688060</td>\n",
       "    </tr>\n",
       "    <tr>\n",
       "      <th>max</th>\n",
       "      <td>6.963484</td>\n",
       "      <td>30.388700</td>\n",
       "      <td>25.373450</td>\n",
       "      <td>2.386329</td>\n",
       "      <td>5.840158</td>\n",
       "      <td>23.464750</td>\n",
       "      <td>2.126450</td>\n",
       "      <td>4.040194</td>\n",
       "      <td>290484.601450</td>\n",
       "      <td>inf</td>\n",
       "      <td>64759.076987</td>\n",
       "      <td>1.000000</td>\n",
       "      <td>1.000000</td>\n",
       "      <td>158.091882</td>\n",
       "      <td>4.402670</td>\n",
       "    </tr>\n",
       "  </tbody>\n",
       "</table>\n",
       "</div>"
      ],
      "text/plain": [
       "           redshift  redshift_err     green_mag     green_err     green_ext  \\\n",
       "count  14164.000000  14164.000000  14164.000000  14164.000000  14164.000000   \n",
       "mean       0.621464      0.011147     19.784473     -0.617276      0.124662   \n",
       "std        0.681362      0.456484     84.210065     84.017140      0.142622   \n",
       "min       -0.000325     -6.000000  -9999.000000  -9999.000000      0.009221   \n",
       "25%        0.176800      0.000032     18.762995      0.011588      0.062427   \n",
       "50%        0.470836      0.000108     20.984185      0.048101      0.096387   \n",
       "75%        0.627544      0.000188     22.000887      0.126090      0.154049   \n",
       "max        6.963484     30.388700     25.373450      2.386329      5.840158   \n",
       "\n",
       "            red_mag       red_err       red_ext       velocity          Flux  \\\n",
       "count  14164.000000  14164.000000  14164.000000   14164.000000  1.416400e+04   \n",
       "mean      18.639190     -0.668014      0.086241  108257.817901           inf   \n",
       "std       84.195760     84.016640      0.098665   67959.561880           NaN   \n",
       "min    -9999.000000  -9999.000000      0.006379     -97.440285  2.015942e-18   \n",
       "25%       17.777385      0.008625      0.043187   48379.127559  4.503012e-17   \n",
       "50%       19.833070      0.027280      0.066680  110251.853500  1.148641e-16   \n",
       "75%       20.674855      0.055461      0.106570  135473.079875  8.885057e-16   \n",
       "max       23.464750      2.126450      4.040194  290484.601450           inf   \n",
       "\n",
       "           distance  class_GALAXY     class_QSO    M_Absolute     G_minus_R  \n",
       "count  14164.000000  14164.000000  14164.000000  14164.000000  14164.000000  \n",
       "mean    1498.091452      0.812059      0.187941    -25.610948      1.145283  \n",
       "std     3558.075815      0.390679      0.390679     84.314417      0.653753  \n",
       "min        0.000000      0.000000      0.000000 -10035.602686     -3.312290  \n",
       "25%        0.728498      1.000000      0.000000    -26.222650      0.637123  \n",
       "50%        2.666513      1.000000      0.000000    -25.314471      1.225465  \n",
       "75%        4.579538      1.000000      0.000000    -22.820959      1.688060  \n",
       "max    64759.076987      1.000000      1.000000    158.091882      4.402670  "
      ]
     },
     "execution_count": 6,
     "metadata": {},
     "output_type": "execute_result"
    }
   ],
   "source": [
    "labelframe[1].describe()\n",
    "#We are still somehow getting some outliers, so let's get rid of 'em."
   ]
  },
  {
   "cell_type": "code",
   "execution_count": 6,
   "metadata": {},
   "outputs": [
    {
     "data": {
      "text/html": [
       "<div>\n",
       "<style scoped>\n",
       "    .dataframe tbody tr th:only-of-type {\n",
       "        vertical-align: middle;\n",
       "    }\n",
       "\n",
       "    .dataframe tbody tr th {\n",
       "        vertical-align: top;\n",
       "    }\n",
       "\n",
       "    .dataframe thead th {\n",
       "        text-align: right;\n",
       "    }\n",
       "</style>\n",
       "<table border=\"1\" class=\"dataframe\">\n",
       "  <thead>\n",
       "    <tr style=\"text-align: right;\">\n",
       "      <th></th>\n",
       "      <th>redshift</th>\n",
       "      <th>redshift_err</th>\n",
       "      <th>green_mag</th>\n",
       "      <th>green_err</th>\n",
       "      <th>green_ext</th>\n",
       "      <th>red_mag</th>\n",
       "      <th>red_err</th>\n",
       "      <th>red_ext</th>\n",
       "      <th>velocity</th>\n",
       "      <th>Flux</th>\n",
       "      <th>distance</th>\n",
       "      <th>class_GALAXY</th>\n",
       "      <th>class_QSO</th>\n",
       "      <th>M_Absolute</th>\n",
       "      <th>G_minus_R</th>\n",
       "    </tr>\n",
       "  </thead>\n",
       "  <tbody>\n",
       "    <tr>\n",
       "      <th>count</th>\n",
       "      <td>14148.000000</td>\n",
       "      <td>14148.000000</td>\n",
       "      <td>14148.000000</td>\n",
       "      <td>14148.000000</td>\n",
       "      <td>14148.000000</td>\n",
       "      <td>14148.000000</td>\n",
       "      <td>14148.000000</td>\n",
       "      <td>14148.000000</td>\n",
       "      <td>14148.000000</td>\n",
       "      <td>1.414800e+04</td>\n",
       "      <td>14148.000000</td>\n",
       "      <td>14148.000000</td>\n",
       "      <td>14148.000000</td>\n",
       "      <td>14148.000000</td>\n",
       "      <td>14148.000000</td>\n",
       "    </tr>\n",
       "    <tr>\n",
       "      <th>mean</th>\n",
       "      <td>0.622152</td>\n",
       "      <td>0.011159</td>\n",
       "      <td>20.491711</td>\n",
       "      <td>0.088704</td>\n",
       "      <td>0.124291</td>\n",
       "      <td>19.345216</td>\n",
       "      <td>0.037740</td>\n",
       "      <td>0.085984</td>\n",
       "      <td>108375.933582</td>\n",
       "      <td>9.222251e-16</td>\n",
       "      <td>1499.783501</td>\n",
       "      <td>0.811846</td>\n",
       "      <td>0.188154</td>\n",
       "      <td>-25.008952</td>\n",
       "      <td>1.146496</td>\n",
       "    </tr>\n",
       "    <tr>\n",
       "      <th>std</th>\n",
       "      <td>0.681439</td>\n",
       "      <td>0.456741</td>\n",
       "      <td>1.906361</td>\n",
       "      <td>0.118629</td>\n",
       "      <td>0.140709</td>\n",
       "      <td>1.685859</td>\n",
       "      <td>0.037369</td>\n",
       "      <td>0.097342</td>\n",
       "      <td>67906.513286</td>\n",
       "      <td>3.740824e-15</td>\n",
       "      <td>3559.731303</td>\n",
       "      <td>0.390849</td>\n",
       "      <td>0.390849</td>\n",
       "      <td>4.149291</td>\n",
       "      <td>0.651926</td>\n",
       "    </tr>\n",
       "    <tr>\n",
       "      <th>min</th>\n",
       "      <td>0.003318</td>\n",
       "      <td>-6.000000</td>\n",
       "      <td>12.728550</td>\n",
       "      <td>0.001710</td>\n",
       "      <td>0.009221</td>\n",
       "      <td>11.854490</td>\n",
       "      <td>0.001542</td>\n",
       "      <td>0.006379</td>\n",
       "      <td>992.934169</td>\n",
       "      <td>2.015942e-18</td>\n",
       "      <td>0.042836</td>\n",
       "      <td>0.000000</td>\n",
       "      <td>0.000000</td>\n",
       "      <td>-41.806911</td>\n",
       "      <td>-1.648030</td>\n",
       "    </tr>\n",
       "    <tr>\n",
       "      <th>25%</th>\n",
       "      <td>0.177812</td>\n",
       "      <td>0.000032</td>\n",
       "      <td>18.761733</td>\n",
       "      <td>0.011587</td>\n",
       "      <td>0.062398</td>\n",
       "      <td>17.776752</td>\n",
       "      <td>0.008619</td>\n",
       "      <td>0.043167</td>\n",
       "      <td>48630.235195</td>\n",
       "      <td>4.500400e-17</td>\n",
       "      <td>0.728388</td>\n",
       "      <td>1.000000</td>\n",
       "      <td>0.000000</td>\n",
       "      <td>-26.224007</td>\n",
       "      <td>0.639620</td>\n",
       "    </tr>\n",
       "    <tr>\n",
       "      <th>50%</th>\n",
       "      <td>0.471315</td>\n",
       "      <td>0.000108</td>\n",
       "      <td>20.983980</td>\n",
       "      <td>0.048101</td>\n",
       "      <td>0.096372</td>\n",
       "      <td>19.830750</td>\n",
       "      <td>0.027276</td>\n",
       "      <td>0.066670</td>\n",
       "      <td>110336.187120</td>\n",
       "      <td>1.148857e-16</td>\n",
       "      <td>2.670710</td>\n",
       "      <td>1.000000</td>\n",
       "      <td>0.000000</td>\n",
       "      <td>-25.317063</td>\n",
       "      <td>1.226985</td>\n",
       "    </tr>\n",
       "    <tr>\n",
       "      <th>75%</th>\n",
       "      <td>0.627880</td>\n",
       "      <td>0.000188</td>\n",
       "      <td>22.001518</td>\n",
       "      <td>0.126173</td>\n",
       "      <td>0.153962</td>\n",
       "      <td>20.674067</td>\n",
       "      <td>0.055446</td>\n",
       "      <td>0.106510</td>\n",
       "      <td>135522.279570</td>\n",
       "      <td>8.895393e-16</td>\n",
       "      <td>4.582587</td>\n",
       "      <td>1.000000</td>\n",
       "      <td>0.000000</td>\n",
       "      <td>-22.838019</td>\n",
       "      <td>1.688410</td>\n",
       "    </tr>\n",
       "    <tr>\n",
       "      <th>max</th>\n",
       "      <td>6.963484</td>\n",
       "      <td>30.388700</td>\n",
       "      <td>25.373450</td>\n",
       "      <td>2.386329</td>\n",
       "      <td>5.840158</td>\n",
       "      <td>23.464750</td>\n",
       "      <td>0.630791</td>\n",
       "      <td>4.040194</td>\n",
       "      <td>290484.601450</td>\n",
       "      <td>2.303765e-13</td>\n",
       "      <td>64759.076987</td>\n",
       "      <td>1.000000</td>\n",
       "      <td>1.000000</td>\n",
       "      <td>-2.703713</td>\n",
       "      <td>4.402670</td>\n",
       "    </tr>\n",
       "  </tbody>\n",
       "</table>\n",
       "</div>"
      ],
      "text/plain": [
       "           redshift  redshift_err     green_mag     green_err     green_ext  \\\n",
       "count  14148.000000  14148.000000  14148.000000  14148.000000  14148.000000   \n",
       "mean       0.622152      0.011159     20.491711      0.088704      0.124291   \n",
       "std        0.681439      0.456741      1.906361      0.118629      0.140709   \n",
       "min        0.003318     -6.000000     12.728550      0.001710      0.009221   \n",
       "25%        0.177812      0.000032     18.761733      0.011587      0.062398   \n",
       "50%        0.471315      0.000108     20.983980      0.048101      0.096372   \n",
       "75%        0.627880      0.000188     22.001518      0.126173      0.153962   \n",
       "max        6.963484     30.388700     25.373450      2.386329      5.840158   \n",
       "\n",
       "            red_mag       red_err       red_ext       velocity          Flux  \\\n",
       "count  14148.000000  14148.000000  14148.000000   14148.000000  1.414800e+04   \n",
       "mean      19.345216      0.037740      0.085984  108375.933582  9.222251e-16   \n",
       "std        1.685859      0.037369      0.097342   67906.513286  3.740824e-15   \n",
       "min       11.854490      0.001542      0.006379     992.934169  2.015942e-18   \n",
       "25%       17.776752      0.008619      0.043167   48630.235195  4.500400e-17   \n",
       "50%       19.830750      0.027276      0.066670  110336.187120  1.148857e-16   \n",
       "75%       20.674067      0.055446      0.106510  135522.279570  8.895393e-16   \n",
       "max       23.464750      0.630791      4.040194  290484.601450  2.303765e-13   \n",
       "\n",
       "           distance  class_GALAXY     class_QSO    M_Absolute     G_minus_R  \n",
       "count  14148.000000  14148.000000  14148.000000  14148.000000  14148.000000  \n",
       "mean    1499.783501      0.811846      0.188154    -25.008952      1.146496  \n",
       "std     3559.731303      0.390849      0.390849      4.149291      0.651926  \n",
       "min        0.042836      0.000000      0.000000    -41.806911     -1.648030  \n",
       "25%        0.728388      1.000000      0.000000    -26.224007      0.639620  \n",
       "50%        2.670710      1.000000      0.000000    -25.317063      1.226985  \n",
       "75%        4.582587      1.000000      0.000000    -22.838019      1.688410  \n",
       "max    64759.076987      1.000000      1.000000     -2.703713      4.402670  "
      ]
     },
     "execution_count": 6,
     "metadata": {},
     "output_type": "execute_result"
    }
   ],
   "source": [
    "#KILLING them outliers\n",
    "\n",
    "for i in range(len(labelframe)):\n",
    "    killer = labelframe[i][labelframe[i][\"M_Absolute\"]>-50]\n",
    "    killer2 = killer[killer[\"M_Absolute\"]<-1]\n",
    "    killer3 = killer2[killer2[\"G_minus_R\"]>-2]\n",
    "    labelframe[i] = killer3\n",
    "\n",
    "labelframe[1].describe()"
   ]
  },
  {
   "cell_type": "code",
   "execution_count": 8,
   "metadata": {},
   "outputs": [
    {
     "data": {
      "text/plain": [
       "<matplotlib.collections.PathCollection at 0xd9895f8>"
      ]
     },
     "execution_count": 8,
     "metadata": {},
     "output_type": "execute_result"
    },
    {
     "data": {
      "image/png": "[encoded data removed]",
      "text/plain": [
       "<Figure size 432x288 with 1 Axes>"
      ]
     },
     "metadata": {
      "needs_background": "light"
     },
     "output_type": "display_data"
    }
   ],
   "source": [
    "plt.scatter(labelframe[1]['G_minus_R'], labelframe[1]['M_Absolute'], c=labelframe[1][\"class_GALAXY\"],  marker=\"o\", cmap=\"Spectral\")"
   ]
  },
  {
   "cell_type": "code",
   "execution_count": 9,
   "metadata": {},
   "outputs": [],
   "source": [
    "#We can see that in the \"Red\" area, everything is a galaxy. In the \"Blue\" area,\n",
    "#everything is a Quasar, and in the \"Green\" valley, there is a mix."
   ]
  },
  {
   "cell_type": "code",
   "execution_count": 11,
   "metadata": {},
   "outputs": [
    {
     "name": "stderr",
     "output_type": "stream",
     "text": [
      "C:\\ProgramData\\Anaconda3\\lib\\site-packages\\ipykernel_launcher.py:11: SettingWithCopyWarning: \n",
      "A value is trying to be set on a copy of a slice from a DataFrame.\n",
      "Try using .loc[row_indexer,col_indexer] = value instead\n",
      "\n",
      "See the caveats in the documentation: http://pandas.pydata.org/pandas-docs/stable/indexing.html#indexing-view-versus-copy\n",
      "  # This is added back by InteractiveShellApp.init_path()\n"
     ]
    }
   ],
   "source": [
    "#We know there are 3 clusters, \"red\", \"blue\", and \"green\" galaxies,\n",
    "#so we will use 3 centers.\n",
    "#Normally, you would test several different numbers of centers \n",
    "#and see which one performed the best using metrics, but since we already know\n",
    "#that there are 3 groups (red, blue, green), we are going to go straight to 3 groups.\n",
    "\n",
    "for i in range(len(labelframe)):\n",
    "    X = labelframe[i][['M_Absolute','G_minus_R']]\n",
    "    KMmodel = KMeans(n_clusters=3, n_init=100, init='random', max_iter=5)\n",
    "    y_pred = KMmodel.fit_predict(X)\n",
    "    labelframe[i][\"K_Means_Cluster\"] = y_pred"
   ]
  },
  {
   "cell_type": "code",
   "execution_count": 8,
   "metadata": {},
   "outputs": [
    {
     "data": {
      "text/plain": [
       "<matplotlib.collections.PathCollection at 0x151f9c50>"
      ]
     },
     "execution_count": 8,
     "metadata": {},
     "output_type": "execute_result"
    },
    {
     "data": {
      "image/png": "[encoded data removed]",
      "text/plain": [
       "<Figure size 432x288 with 1 Axes>"
      ]
     },
     "metadata": {
      "needs_background": "light"
     },
     "output_type": "display_data"
    }
   ],
   "source": [
    "plt.scatter(labelframe[39][\"G_minus_R\"], labelframe[39]['M_Absolute'], c=labelframe[39][\"K_Means_Cluster\"],  marker=\"o\", cmap=\"Spectral\")"
   ]
  },
  {
   "cell_type": "code",
   "execution_count": 15,
   "metadata": {},
   "outputs": [
    {
     "name": "stdout",
     "output_type": "stream",
     "text": [
      "Total intra-cluster distance: 42652.46417546888\n"
     ]
    }
   ],
   "source": [
    "#Intra-cluster distance. This was looped as well.\n",
    "print(\"Total intra-cluster distance:\",-1*KMmodel.score(X))"
   ]
  },
  {
   "cell_type": "code",
   "execution_count": 16,
   "metadata": {},
   "outputs": [
    {
     "data": {
      "text/plain": [
       "<matplotlib.collections.PathCollection at 0xdae61d0>"
      ]
     },
     "execution_count": 16,
     "metadata": {},
     "output_type": "execute_result"
    },
    {
     "data": {
      "image/png": "[encoded data removed]",
      "text/plain": [
       "<Figure size 432x288 with 1 Axes>"
      ]
     },
     "metadata": {
      "needs_background": "light"
     },
     "output_type": "display_data"
    }
   ],
   "source": [
    "#DBSCAN Clustering. Note we originally used a \n",
    "#loop to do all 40, but it crashed everything hard.\n",
    "#Here is the best example that we found.\n",
    "\n",
    "X = labelframe[0][['M_Absolute','G_minus_R']]\n",
    "db_model = DBSCAN(eps=1.5, min_samples=740)\n",
    "db_model.fit(X)\n",
    "y_pred = db_model.fit_predict(X)\n",
    "labelframe[0][\"DBSCAN_Cluster\"] = y_pred\n",
    "\n",
    "plt.scatter(labelframe[0][\"G_minus_R\"], labelframe[0]['M_Absolute'], c=labelframe[0][\"DBSCAN_Cluster\"],  marker=\"o\", cmap=\"Spectral\")"
   ]
  },
  {
   "cell_type": "code",
   "execution_count": 14,
   "metadata": {},
   "outputs": [],
   "source": [
    "#Extremely sensitive to epsilon and min samples values.\n",
    "#Especially min samples, which needs to be tested on each dataset of\n",
    "#different sizes.\n",
    "#K-means clustering is better for our data, since it all kind of \"mashes together\"\n",
    "#into a blob, so hierarchical or DBSCAN clustering will perform poorly in comparison"
   ]
  },
  {
   "cell_type": "code",
   "execution_count": 21,
   "metadata": {},
   "outputs": [
    {
     "data": {
      "text/html": [
       "<div>\n",
       "<style scoped>\n",
       "    .dataframe tbody tr th:only-of-type {\n",
       "        vertical-align: middle;\n",
       "    }\n",
       "\n",
       "    .dataframe tbody tr th {\n",
       "        vertical-align: top;\n",
       "    }\n",
       "\n",
       "    .dataframe thead th {\n",
       "        text-align: right;\n",
       "    }\n",
       "</style>\n",
       "<table border=\"1\" class=\"dataframe\">\n",
       "  <thead>\n",
       "    <tr style=\"text-align: right;\">\n",
       "      <th></th>\n",
       "      <th>redshift</th>\n",
       "      <th>redshift_err</th>\n",
       "      <th>green_mag</th>\n",
       "      <th>green_err</th>\n",
       "      <th>green_ext</th>\n",
       "      <th>red_mag</th>\n",
       "      <th>red_err</th>\n",
       "      <th>red_ext</th>\n",
       "      <th>velocity</th>\n",
       "      <th>Flux</th>\n",
       "      <th>distance</th>\n",
       "      <th>class_GALAXY</th>\n",
       "      <th>class_QSO</th>\n",
       "      <th>M_Absolute</th>\n",
       "      <th>G_minus_R</th>\n",
       "      <th>K_Means_Cluster</th>\n",
       "    </tr>\n",
       "  </thead>\n",
       "  <tbody>\n",
       "    <tr>\n",
       "      <th>count</th>\n",
       "      <td>14148.000000</td>\n",
       "      <td>14148.000000</td>\n",
       "      <td>14148.000000</td>\n",
       "      <td>14148.000000</td>\n",
       "      <td>14148.000000</td>\n",
       "      <td>14148.000000</td>\n",
       "      <td>14148.000000</td>\n",
       "      <td>14148.000000</td>\n",
       "      <td>14148.000000</td>\n",
       "      <td>1.414800e+04</td>\n",
       "      <td>14148.000000</td>\n",
       "      <td>14148.000000</td>\n",
       "      <td>14148.000000</td>\n",
       "      <td>14148.000000</td>\n",
       "      <td>14148.000000</td>\n",
       "      <td>14148.000000</td>\n",
       "    </tr>\n",
       "    <tr>\n",
       "      <th>mean</th>\n",
       "      <td>0.622152</td>\n",
       "      <td>0.011159</td>\n",
       "      <td>20.491711</td>\n",
       "      <td>0.088704</td>\n",
       "      <td>0.124291</td>\n",
       "      <td>19.345216</td>\n",
       "      <td>0.037740</td>\n",
       "      <td>0.085984</td>\n",
       "      <td>108375.933582</td>\n",
       "      <td>9.222251e-16</td>\n",
       "      <td>1499.783501</td>\n",
       "      <td>0.811846</td>\n",
       "      <td>0.188154</td>\n",
       "      <td>-25.008952</td>\n",
       "      <td>1.146496</td>\n",
       "      <td>1.385072</td>\n",
       "    </tr>\n",
       "    <tr>\n",
       "      <th>std</th>\n",
       "      <td>0.681439</td>\n",
       "      <td>0.456741</td>\n",
       "      <td>1.906361</td>\n",
       "      <td>0.118629</td>\n",
       "      <td>0.140709</td>\n",
       "      <td>1.685859</td>\n",
       "      <td>0.037369</td>\n",
       "      <td>0.097342</td>\n",
       "      <td>67906.513286</td>\n",
       "      <td>3.740824e-15</td>\n",
       "      <td>3559.731303</td>\n",
       "      <td>0.390849</td>\n",
       "      <td>0.390849</td>\n",
       "      <td>4.149291</td>\n",
       "      <td>0.651926</td>\n",
       "      <td>0.837303</td>\n",
       "    </tr>\n",
       "    <tr>\n",
       "      <th>min</th>\n",
       "      <td>0.003318</td>\n",
       "      <td>-6.000000</td>\n",
       "      <td>12.728550</td>\n",
       "      <td>0.001710</td>\n",
       "      <td>0.009221</td>\n",
       "      <td>11.854490</td>\n",
       "      <td>0.001542</td>\n",
       "      <td>0.006379</td>\n",
       "      <td>992.934169</td>\n",
       "      <td>2.015942e-18</td>\n",
       "      <td>0.042836</td>\n",
       "      <td>0.000000</td>\n",
       "      <td>0.000000</td>\n",
       "      <td>-41.806911</td>\n",
       "      <td>-1.648030</td>\n",
       "      <td>0.000000</td>\n",
       "    </tr>\n",
       "    <tr>\n",
       "      <th>25%</th>\n",
       "      <td>0.177812</td>\n",
       "      <td>0.000032</td>\n",
       "      <td>18.761733</td>\n",
       "      <td>0.011587</td>\n",
       "      <td>0.062398</td>\n",
       "      <td>17.776752</td>\n",
       "      <td>0.008619</td>\n",
       "      <td>0.043167</td>\n",
       "      <td>48630.235195</td>\n",
       "      <td>4.500400e-17</td>\n",
       "      <td>0.728388</td>\n",
       "      <td>1.000000</td>\n",
       "      <td>0.000000</td>\n",
       "      <td>-26.224007</td>\n",
       "      <td>0.639620</td>\n",
       "      <td>1.000000</td>\n",
       "    </tr>\n",
       "    <tr>\n",
       "      <th>50%</th>\n",
       "      <td>0.471315</td>\n",
       "      <td>0.000108</td>\n",
       "      <td>20.983980</td>\n",
       "      <td>0.048101</td>\n",
       "      <td>0.096372</td>\n",
       "      <td>19.830750</td>\n",
       "      <td>0.027276</td>\n",
       "      <td>0.066670</td>\n",
       "      <td>110336.187120</td>\n",
       "      <td>1.148857e-16</td>\n",
       "      <td>2.670710</td>\n",
       "      <td>1.000000</td>\n",
       "      <td>0.000000</td>\n",
       "      <td>-25.317063</td>\n",
       "      <td>1.226985</td>\n",
       "      <td>2.000000</td>\n",
       "    </tr>\n",
       "    <tr>\n",
       "      <th>75%</th>\n",
       "      <td>0.627880</td>\n",
       "      <td>0.000188</td>\n",
       "      <td>22.001518</td>\n",
       "      <td>0.126173</td>\n",
       "      <td>0.153962</td>\n",
       "      <td>20.674067</td>\n",
       "      <td>0.055446</td>\n",
       "      <td>0.106510</td>\n",
       "      <td>135522.279570</td>\n",
       "      <td>8.895393e-16</td>\n",
       "      <td>4.582587</td>\n",
       "      <td>1.000000</td>\n",
       "      <td>0.000000</td>\n",
       "      <td>-22.838019</td>\n",
       "      <td>1.688410</td>\n",
       "      <td>2.000000</td>\n",
       "    </tr>\n",
       "    <tr>\n",
       "      <th>max</th>\n",
       "      <td>6.963484</td>\n",
       "      <td>30.388700</td>\n",
       "      <td>25.373450</td>\n",
       "      <td>2.386329</td>\n",
       "      <td>5.840158</td>\n",
       "      <td>23.464750</td>\n",
       "      <td>0.630791</td>\n",
       "      <td>4.040194</td>\n",
       "      <td>290484.601450</td>\n",
       "      <td>2.303765e-13</td>\n",
       "      <td>64759.076987</td>\n",
       "      <td>1.000000</td>\n",
       "      <td>1.000000</td>\n",
       "      <td>-2.703713</td>\n",
       "      <td>4.402670</td>\n",
       "      <td>2.000000</td>\n",
       "    </tr>\n",
       "  </tbody>\n",
       "</table>\n",
       "</div>"
      ],
      "text/plain": [
       "           redshift  redshift_err     green_mag     green_err     green_ext  \\\n",
       "count  14148.000000  14148.000000  14148.000000  14148.000000  14148.000000   \n",
       "mean       0.622152      0.011159     20.491711      0.088704      0.124291   \n",
       "std        0.681439      0.456741      1.906361      0.118629      0.140709   \n",
       "min        0.003318     -6.000000     12.728550      0.001710      0.009221   \n",
       "25%        0.177812      0.000032     18.761733      0.011587      0.062398   \n",
       "50%        0.471315      0.000108     20.983980      0.048101      0.096372   \n",
       "75%        0.627880      0.000188     22.001518      0.126173      0.153962   \n",
       "max        6.963484     30.388700     25.373450      2.386329      5.840158   \n",
       "\n",
       "            red_mag       red_err       red_ext       velocity          Flux  \\\n",
       "count  14148.000000  14148.000000  14148.000000   14148.000000  1.414800e+04   \n",
       "mean      19.345216      0.037740      0.085984  108375.933582  9.222251e-16   \n",
       "std        1.685859      0.037369      0.097342   67906.513286  3.740824e-15   \n",
       "min       11.854490      0.001542      0.006379     992.934169  2.015942e-18   \n",
       "25%       17.776752      0.008619      0.043167   48630.235195  4.500400e-17   \n",
       "50%       19.830750      0.027276      0.066670  110336.187120  1.148857e-16   \n",
       "75%       20.674067      0.055446      0.106510  135522.279570  8.895393e-16   \n",
       "max       23.464750      0.630791      4.040194  290484.601450  2.303765e-13   \n",
       "\n",
       "           distance  class_GALAXY     class_QSO    M_Absolute     G_minus_R  \\\n",
       "count  14148.000000  14148.000000  14148.000000  14148.000000  14148.000000   \n",
       "mean    1499.783501      0.811846      0.188154    -25.008952      1.146496   \n",
       "std     3559.731303      0.390849      0.390849      4.149291      0.651926   \n",
       "min        0.042836      0.000000      0.000000    -41.806911     -1.648030   \n",
       "25%        0.728388      1.000000      0.000000    -26.224007      0.639620   \n",
       "50%        2.670710      1.000000      0.000000    -25.317063      1.226985   \n",
       "75%        4.582587      1.000000      0.000000    -22.838019      1.688410   \n",
       "max    64759.076987      1.000000      1.000000     -2.703713      4.402670   \n",
       "\n",
       "       K_Means_Cluster  \n",
       "count     14148.000000  \n",
       "mean          1.385072  \n",
       "std           0.837303  \n",
       "min           0.000000  \n",
       "25%           1.000000  \n",
       "50%           2.000000  \n",
       "75%           2.000000  \n",
       "max           2.000000  "
      ]
     },
     "execution_count": 21,
     "metadata": {},
     "output_type": "execute_result"
    }
   ],
   "source": [
    "labelframe[1].describe()"
   ]
  },
  {
   "cell_type": "code",
   "execution_count": 22,
   "metadata": {},
   "outputs": [
    {
     "name": "stderr",
     "output_type": "stream",
     "text": [
      "C:\\ProgramData\\Anaconda3\\lib\\site-packages\\sklearn\\utils\\validation.py:761: DataConversionWarning: A column-vector y was passed when a 1d array was expected. Please change the shape of y to (n_samples, ), for example using ravel().\n",
      "  y = column_or_1d(y, warn=True)\n",
      "C:\\ProgramData\\Anaconda3\\lib\\site-packages\\sklearn\\svm\\base.py:196: FutureWarning: The default value of gamma will change from 'auto' to 'scale' in version 0.22 to account better for unscaled features. Set gamma explicitly to 'auto' or 'scale' to avoid this warning.\n",
      "  \"avoid this warning.\", FutureWarning)\n"
     ]
    }
   ],
   "source": [
    "#SVM Classifier\n",
    "#VERY computationally expensive, so we only include one example here. Note that\n",
    "#we had to loop over many many many of these and my poor PC hates me now.\n",
    "\n",
    "#Selecting relevant variables (part 1 scatter matrix)\n",
    "X_train = labelframe[0][['redshift', 'green_mag', 'red_mag', 'M_Absolute']]\n",
    "y_train = labelframe[0][['class_GALAXY']]\n",
    "X_test = labelframe[4][['redshift', 'green_mag', 'red_mag', 'M_Absolute']]\n",
    "y_test = labelframe[4][['class_GALAXY']]\n",
    "#best kernel:rbf\n",
    "#best C: 103\n",
    "#consistent upon cross-validation\n",
    "svm_model = svm.SVC(kernel='rbf', C=103)\n",
    "svm_model.fit(X_train, y_train)\n",
    "\n",
    "y_pred = svm_model.predict(X_test)\n",
    "\n",
    "\n",
    "labelframe[4]['SVM_class'] = y_pred"
   ]
  },
  {
   "cell_type": "code",
   "execution_count": 23,
   "metadata": {},
   "outputs": [
    {
     "data": {
      "text/plain": [
       "0.9861325837432654"
      ]
     },
     "execution_count": 23,
     "metadata": {},
     "output_type": "execute_result"
    }
   ],
   "source": [
    "#We looped over many of these accuracy scores and took a weighted average. \n",
    "#Overall result was 98.3% accuracy.\n",
    "#Here's one really good example on set 40 (index 39):\n",
    "metrics.accuracy_score(y_true = y_test, y_pred=y_pred)"
   ]
  },
  {
   "cell_type": "code",
   "execution_count": 36,
   "metadata": {},
   "outputs": [
    {
     "data": {
      "text/plain": [
       "array([[ 2618,   161],\n",
       "       [   60, 11499]], dtype=int64)"
      ]
     },
     "execution_count": 36,
     "metadata": {},
     "output_type": "execute_result"
    }
   ],
   "source": [
    "metrics.confusion_matrix(y_true=y_test, y_pred=y_pred)"
   ]
  },
  {
   "cell_type": "code",
   "execution_count": 59,
   "metadata": {},
   "outputs": [
    {
     "data": {
      "text/plain": [
       "<matplotlib.collections.PathCollection at 0x5d82dd8>"
      ]
     },
     "execution_count": 59,
     "metadata": {},
     "output_type": "execute_result"
    },
    {
     "data": {
      "image/png": "[encoded data removed]",
      "text/plain": [
       "<Figure size 432x288 with 1 Axes>"
      ]
     },
     "metadata": {
      "needs_background": "light"
     },
     "output_type": "display_data"
    }
   ],
   "source": [
    "#plotting predictions made by SVM\n",
    "plt.scatter(labelframe[4][\"G_minus_R\"], labelframe[4]['M_Absolute'], c=labelframe[4][\"SVM_class\"],  marker=\"o\", cmap=\"Spectral\")"
   ]
  },
  {
   "cell_type": "code",
   "execution_count": null,
   "metadata": {},
   "outputs": [],
   "source": [
    "#The data is sort of \"mixed together\" near the middle of our data in the \"green valley.\" \n",
    "#Let's see if our classifier can overcome this."
   ]
  },
  {
   "cell_type": "code",
   "execution_count": 26,
   "metadata": {},
   "outputs": [
    {
     "name": "stderr",
     "output_type": "stream",
     "text": [
      "C:\\ProgramData\\Anaconda3\\lib\\site-packages\\ipykernel_launcher.py:2: DataConversionWarning: A column-vector y was passed when a 1d array was expected. Please change the shape of y to (n_samples, ), for example using ravel().\n",
      "  \n"
     ]
    }
   ],
   "source": [
    "knn_model = KNeighborsClassifier(n_neighbors=20)\n",
    "knn_model.fit(X_train, y_train)\n",
    "\n",
    "knn_y_pred = knn_model.predict(X_test)\n",
    "metrics.accuracy_score(y_true = y_test, y_pred=knn_y_pred)\n",
    "\n",
    "labelframe[4][\"KNN_class\"] = knn_y_pred"
   ]
  },
  {
   "cell_type": "code",
   "execution_count": 54,
   "metadata": {},
   "outputs": [
    {
     "data": {
      "text/plain": [
       "array([[ 3791,   244],\n",
       "       [   68, 17242]], dtype=int64)"
      ]
     },
     "execution_count": 54,
     "metadata": {},
     "output_type": "execute_result"
    }
   ],
   "source": [
    "metrics.confusion_matrix(y_true = y_test, y_pred=knn_y_pred)"
   ]
  },
  {
   "cell_type": "code",
   "execution_count": 27,
   "metadata": {},
   "outputs": [
    {
     "data": {
      "text/plain": [
       "0.9853829936753338"
      ]
     },
     "execution_count": 27,
     "metadata": {},
     "output_type": "execute_result"
    }
   ],
   "source": [
    "#Again, we looped this with appropriate weights. \n",
    "#Final result was 98.2% accuracy on the test data.\n",
    "metrics.accuracy_score(y_true = y_test, y_pred=knn_y_pred)"
   ]
  },
  {
   "cell_type": "code",
   "execution_count": 62,
   "metadata": {},
   "outputs": [
    {
     "data": {
      "text/plain": [
       "<matplotlib.collections.PathCollection at 0x5e54240>"
      ]
     },
     "execution_count": 62,
     "metadata": {},
     "output_type": "execute_result"
    },
    {
     "data": {
      "image/png": "[encoded data removed]",
      "text/plain": [
       "<Figure size 432x288 with 1 Axes>"
      ]
     },
     "metadata": {
      "needs_background": "light"
     },
     "output_type": "display_data"
    }
   ],
   "source": [
    "#Plotting predictions made by knn\n",
    "plt.scatter(labelframe[4][\"G_minus_R\"], labelframe[4]['M_Absolute'], c=labelframe[4][\"KNN_class\"],  marker=\"o\", cmap=\"Spectral\")"
   ]
  },
  {
   "cell_type": "code",
   "execution_count": null,
   "metadata": {},
   "outputs": [],
   "source": []
  }
 ],
 "metadata": {
  "kernelspec": {
   "display_name": "Python 3",
   "language": "python",
   "name": "python3"
  },
  "language_info": {
   "codemirror_mode": {
    "name": "ipython",
    "version": 3
   },
   "file_extension": ".py",
   "mimetype": "text/x-python",
   "name": "python",
   "nbconvert_exporter": "python",
   "pygments_lexer": "ipython3",
   "version": "3.7.1"
  }
 },
 "nbformat": 4,
 "nbformat_minor": 2
}
