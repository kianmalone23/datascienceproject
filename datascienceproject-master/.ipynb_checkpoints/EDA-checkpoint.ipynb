{
 "cells": [
  {
   "cell_type": "markdown",
   "metadata": {},
   "source": [
    "**Exploratory Data Analysis**"
   ]
  },
  {
   "cell_type": "code",
   "execution_count": 1,
   "metadata": {},
   "outputs": [
    {
     "name": "stdout",
     "output_type": "stream",
     "text": [
      "    class  redshift  redshift_err  green_mag  green_err  green_ext   red_mag  \\\n",
      "0  GALAXY  0.185702      0.000051   20.27926   0.033027   0.404524  19.03009   \n",
      "1  GALAXY  0.353038      0.000067   20.41617   0.051364   0.068213  18.74046   \n",
      "2  GALAXY  0.527042      0.000099   22.38628   0.191882   0.094343  20.59653   \n",
      "3  GALAXY  0.397942      0.000153   20.55792   0.069158   0.284085  18.78533   \n",
      "4  GALAXY  0.613297      0.000307   21.39559   0.219298   0.173314  19.90453   \n",
      "\n",
      "    red_err   red_ext  \n",
      "0  0.017111  0.279848  \n",
      "1  0.017799  0.047189  \n",
      "2  0.058532  0.065266  \n",
      "3  0.023086  0.196528  \n",
      "4  0.089911  0.119898  \n"
     ]
    }
   ],
   "source": [
    "#library/function file\n",
    "import pandas as pd\n",
    "import numpy as np\n",
    "import glob\n",
    "cleanfiles=glob.glob('cleandata/cleandata*.csv') #use glob to make list of file names\n",
    "cleandata=[]\n",
    "for filename in cleanfiles:\n",
    "    cleandata.append(pd.read_csv(filename))\n",
    "print(cleandata[0].head())"
   ]
  },
  {
   "cell_type": "code",
   "execution_count": 2,
   "metadata": {},
   "outputs": [
    {
     "name": "stdout",
     "output_type": "stream",
     "text": [
      "<class 'pandas.core.frame.DataFrame'>\n",
      "RangeIndex: 7125 entries, 0 to 7124\n",
      "Data columns (total 9 columns):\n",
      "class           7125 non-null object\n",
      "redshift        7125 non-null float64\n",
      "redshift_err    7125 non-null float64\n",
      "green_mag       7125 non-null float64\n",
      "green_err       7125 non-null float64\n",
      "green_ext       7125 non-null float64\n",
      "red_mag         7125 non-null float64\n",
      "red_err         7125 non-null float64\n",
      "red_ext         7125 non-null float64\n",
      "dtypes: float64(8), object(1)\n",
      "memory usage: 501.1+ KB\n",
      "None\n",
      "<class 'pandas.core.frame.DataFrame'>\n",
      "RangeIndex: 14089 entries, 0 to 14088\n",
      "Data columns (total 9 columns):\n",
      "class           14089 non-null object\n",
      "redshift        14089 non-null float64\n",
      "redshift_err    14089 non-null float64\n",
      "green_mag       14089 non-null float64\n",
      "green_err       14089 non-null float64\n",
      "green_ext       14089 non-null float64\n",
      "red_mag         14089 non-null float64\n",
      "red_err         14089 non-null float64\n",
      "red_ext         14089 non-null float64\n",
      "dtypes: float64(8), object(1)\n",
      "memory usage: 990.7+ KB\n",
      "None\n"
     ]
    }
   ],
   "source": [
    "# double check data types\n",
    "print(cleandata[-1].info())\n",
    "print(cleandata[0].info())"
   ]
  },
  {
   "cell_type": "code",
   "execution_count": 3,
   "metadata": {},
   "outputs": [
    {
     "name": "stdout",
     "output_type": "stream",
     "text": [
      "           redshift  redshift_err     green_mag     green_err     green_ext  \\\n",
      "count  14089.000000  14089.000000  14089.000000  14089.000000  14089.000000   \n",
      "mean       0.634001      0.007527     20.502305      0.091057      0.123099   \n",
      "std        0.703804      0.326948      1.917021      0.140025      0.113821   \n",
      "min       -0.000352     -4.000000     13.314280      0.001691      0.010848   \n",
      "25%        0.174857      0.000031     18.783590      0.011762      0.062217   \n",
      "50%        0.472265      0.000108     20.977720      0.048290      0.096359   \n",
      "75%        0.632072      0.000193     22.000940      0.125751      0.153795   \n",
      "max        7.011245     25.496150     26.557510      5.027443      4.907377   \n",
      "\n",
      "            red_mag       red_err       red_ext  \n",
      "count  14089.000000  14089.000000  14089.000000  \n",
      "mean      19.354156      0.039004      0.085159  \n",
      "std        1.697269      0.074755      0.078741  \n",
      "min       12.560160      0.001599      0.007505  \n",
      "25%       17.782160      0.008691      0.043042  \n",
      "50%       19.846080      0.027529      0.066660  \n",
      "75%       20.676390      0.054972      0.106395  \n",
      "max       27.300050      5.579384      3.394901  \n",
      "           redshift  redshift_err     green_mag     green_err     green_ext  \\\n",
      "count  21338.000000  21338.000000  21338.000000  21338.000000  21338.000000   \n",
      "mean       0.633824      0.082970     20.505759      0.091116      0.122194   \n",
      "std        0.704677     10.847850      1.915285      0.137846      0.108646   \n",
      "min       -0.000352     -6.000000     13.152560      0.001691      0.010848   \n",
      "25%        0.176086      0.000031     18.784025      0.011816      0.061609   \n",
      "50%        0.471942      0.000108     20.990365      0.048539      0.095865   \n",
      "75%        0.633956      0.000193     21.998355      0.125260      0.152765   \n",
      "max        7.011245   1583.357000     26.679850      5.027443      4.907377   \n",
      "\n",
      "            red_mag       red_err       red_ext  \n",
      "count  21338.000000  21338.000000  21338.000000  \n",
      "mean      19.358449      0.039291      0.084533  \n",
      "std        1.697489      0.072380      0.075161  \n",
      "min       12.027090      0.001561      0.007505  \n",
      "25%       17.785833      0.008759      0.042621  \n",
      "50%       19.844805      0.027681      0.066319  \n",
      "75%       20.676593      0.055215      0.105682  \n",
      "max       27.300050      5.579384      3.394901  \n",
      "           redshift  redshift_err     green_mag     green_err     green_ext  \\\n",
      "count  28589.000000  28589.000000  28589.000000  28589.000000  28589.000000   \n",
      "mean       0.632247      0.062607     20.514651      0.091424      0.121756   \n",
      "std        0.700542      9.371989      1.915696      0.134839      0.106711   \n",
      "min       -0.000352     -6.000000     13.152560      0.001691      0.010848   \n",
      "25%        0.175217      0.000031     18.781960      0.011846      0.061467   \n",
      "50%        0.472925      0.000109     21.014360      0.049044      0.095532   \n",
      "75%        0.633939      0.000193     22.009940      0.126543      0.152366   \n",
      "max        7.011245   1583.357000     26.679850      5.027443      4.907377   \n",
      "\n",
      "            red_mag       red_err       red_ext  \n",
      "count  28589.000000  28589.000000  28589.000000  \n",
      "mean      19.365155      0.039158      0.084230  \n",
      "std        1.695938      0.065382      0.073822  \n",
      "min       12.027090      0.001561      0.007505  \n",
      "25%       17.787510      0.008758      0.042522  \n",
      "50%       19.860140      0.028056      0.066089  \n",
      "75%       20.686070      0.055573      0.105406  \n",
      "max       27.300050      5.579384      3.394901  \n",
      "          redshift  redshift_err    green_mag    green_err    green_ext  \\\n",
      "count  7125.000000   7125.000000  7125.000000  7125.000000  7125.000000   \n",
      "mean      0.639975      0.007772    20.474674     0.090004     0.123746   \n",
      "std       0.725596      0.280620     1.913386     0.142501     0.110292   \n",
      "min      -0.000265     -1.000000    13.314280     0.001691     0.015810   \n",
      "25%       0.170412      0.000030    18.745990     0.011487     0.062142   \n",
      "50%       0.469785      0.000107    20.945730     0.046327     0.097515   \n",
      "75%       0.631375      0.000194    21.981680     0.123043     0.154335   \n",
      "max       7.011245     17.106710    26.557510     5.027443     4.349546   \n",
      "\n",
      "           red_mag      red_err      red_ext  \n",
      "count  7125.000000  7125.000000  7125.000000  \n",
      "mean     19.333513     0.038631     0.085607  \n",
      "std       1.697401     0.078757     0.076299  \n",
      "min      12.560160     0.001599     0.010937  \n",
      "25%      17.760200     0.008663     0.042990  \n",
      "50%      19.773380     0.026805     0.067461  \n",
      "75%      20.666410     0.054699     0.106769  \n",
      "max      25.084030     5.579384     3.008996  \n"
     ]
    }
   ],
   "source": [
    "#lets do some basic analysis on each sample size\n",
    "print(cleandata[0].describe())\n",
    "print(cleandata[6].describe())\n",
    "print(cleandata[12].describe())\n",
    "print(cleandata[16].describe())"
   ]
  },
  {
   "cell_type": "markdown",
   "metadata": {},
   "source": [
    "While there are large outliers for almost all of our data, due to the large sample size we chose, the standard deviation,mean, and median are all a good representation of the values we were trying to pull. "
   ]
  },
  {
   "cell_type": "code",
   "execution_count": 4,
   "metadata": {},
   "outputs": [
    {
     "name": "stdout",
     "output_type": "stream",
     "text": [
      "(5739, 9) (1386, 9)\n"
     ]
    }
   ],
   "source": [
    "#now we will start to seperate this data and form it into the variable we want\n",
    "# for the first part lets split up quasars and galaxies first\n",
    "i=0\n",
    "qso=[0]*20\n",
    "galaxy=[0]*20\n",
    "header=['class','redshift','redshift_err','green_mag','green_err',\n",
    "                  'green_ext','red_mag','red_err','red_ext']\n",
    "while i < len(cleandata):\n",
    "    q=[]\n",
    "    g=[]\n",
    "    df=cleandata[i]\n",
    "    for a in df.index:\n",
    "        if df.loc[a,'class'] == \"QSO\":\n",
    "            q.append(df.iloc[a,:])\n",
    "        else:\n",
    "            c=df.iloc[a,:]\n",
    "            g.append(c.values)\n",
    "    qso[i]=pd.DataFrame(q)\n",
    "    galaxy[i]=pd.DataFrame(g)\n",
    "    galaxy[i].columns=header\n",
    "    galaxy[i]=galaxy[i].reset_index(drop=True)\n",
    "    qso[i].columns=header\n",
    "    qso[i]=qso[i].reset_index(drop=True)\n",
    "    i+=1\n",
    "    \n",
    "print(galaxy[15].shape,qso[15].shape)\n"
   ]
  },
  {
   "cell_type": "code",
   "execution_count": 69,
   "metadata": {},
   "outputs": [
    {
     "name": "stdout",
     "output_type": "stream",
     "text": [
      "<class 'pandas.core.frame.DataFrame'>\n",
      "RangeIndex: 11367 entries, 0 to 11366\n",
      "Data columns (total 9 columns):\n",
      "class           11367 non-null object\n",
      "redshift        11367 non-null float64\n",
      "redshift_err    11367 non-null float64\n",
      "green_mag       11367 non-null float64\n",
      "green_err       11367 non-null float64\n",
      "green_ext       11367 non-null float64\n",
      "red_mag         11367 non-null float64\n",
      "red_err         11367 non-null float64\n",
      "red_ext         11367 non-null float64\n",
      "dtypes: float64(8), object(1)\n",
      "memory usage: 799.3+ KB\n",
      "<class 'pandas.core.frame.DataFrame'>\n",
      "RangeIndex: 5739 entries, 0 to 5738\n",
      "Data columns (total 9 columns):\n",
      "class           5739 non-null object\n",
      "redshift        5739 non-null float64\n",
      "redshift_err    5739 non-null float64\n",
      "green_mag       5739 non-null float64\n",
      "green_err       5739 non-null float64\n",
      "green_ext       5739 non-null float64\n",
      "red_mag         5739 non-null float64\n",
      "red_err         5739 non-null float64\n",
      "red_ext         5739 non-null float64\n",
      "dtypes: float64(8), object(1)\n",
      "memory usage: 403.6+ KB\n",
      "<class 'pandas.core.frame.DataFrame'>\n",
      "RangeIndex: 2722 entries, 0 to 2721\n",
      "Data columns (total 9 columns):\n",
      "class           2722 non-null object\n",
      "redshift        2722 non-null float64\n",
      "redshift_err    2722 non-null float64\n",
      "green_mag       2722 non-null float64\n",
      "green_err       2722 non-null float64\n",
      "green_ext       2722 non-null float64\n",
      "red_mag         2722 non-null float64\n",
      "red_err         2722 non-null float64\n",
      "red_ext         2722 non-null float64\n",
      "dtypes: float64(8), object(1)\n",
      "memory usage: 191.5+ KB\n",
      "<class 'pandas.core.frame.DataFrame'>\n",
      "RangeIndex: 1386 entries, 0 to 1385\n",
      "Data columns (total 9 columns):\n",
      "class           1386 non-null object\n",
      "redshift        1386 non-null float64\n",
      "redshift_err    1386 non-null float64\n",
      "green_mag       1386 non-null float64\n",
      "green_err       1386 non-null float64\n",
      "green_ext       1386 non-null float64\n",
      "red_mag         1386 non-null float64\n",
      "red_err         1386 non-null float64\n",
      "red_ext         1386 non-null float64\n",
      "dtypes: float64(8), object(1)\n",
      "memory usage: 97.5+ KB\n",
      "None None None None\n"
     ]
    }
   ],
   "source": [
    "print(galaxy[0].info(),galaxy[-1].info(),qso[0].info(),qso[-1].info())\n",
    "#all data types were preserved so all is good"
   ]
  },
  {
   "cell_type": "code",
   "execution_count": 6,
   "metadata": {},
   "outputs": [
    {
     "name": "stdout",
     "output_type": "stream",
     "text": [
      "    class  redshift  redshift_err  green_mag  green_err  green_ext   red_mag  \\\n",
      "0  GALAXY  0.185702      0.000051   20.27926   0.033027   0.404524  19.03009   \n",
      "1  GALAXY  0.353038      0.000067   20.41617   0.051364   0.068213  18.74046   \n",
      "2  GALAXY  0.527042      0.000099   22.38628   0.191882   0.094343  20.59653   \n",
      "3  GALAXY  0.397942      0.000153   20.55792   0.069158   0.284085  18.78533   \n",
      "4  GALAXY  0.613297      0.000307   21.39559   0.219298   0.173314  19.90453   \n",
      "\n",
      "    red_err   red_ext       velocity  \n",
      "0  0.017111  0.279848   50577.069224  \n",
      "1  0.017799  0.047189   87978.193108  \n",
      "2  0.058532  0.065266  119837.262632  \n",
      "3  0.023086  0.196528   96835.245139  \n",
      "4  0.089911  0.119898  133367.184223       class  redshift  redshift_err  green_mag  green_err  green_ext   red_mag  \\\n",
      "0  GALAXY  0.336438      0.000071   19.59651   0.030831   0.127218  17.79514   \n",
      "1  GALAXY  0.524660      0.000178   22.52008   0.149141   0.182124  20.87798   \n",
      "2  GALAXY  0.309384      0.000047   20.22203   0.034894   0.092195  18.59347   \n",
      "3  GALAXY  0.490409      0.000115   21.91200   0.140250   0.139424  20.23067   \n",
      "4  GALAXY  0.488689      0.000135   21.99587   0.136640   0.039691  20.14574   \n",
      "\n",
      "    red_err   red_ext       velocity  \n",
      "0  0.010343  0.088009   84584.079993  \n",
      "1  0.055673  0.125992  119443.909494  \n",
      "2  0.013580  0.063780   78909.130981  \n",
      "3  0.048356  0.096453  113662.257321  \n",
      "4  0.041446  0.027458  113365.697057     class  redshift  redshift_err  green_mag  green_err  green_ext   red_mag  \\\n",
      "0   QSO  2.394828      0.000523   21.59155   0.052753   0.053609  21.73227   \n",
      "1   QSO  2.835478      0.000364   19.03116   0.010645   0.088698  18.89552   \n",
      "2   QSO  0.724055      0.262761   22.39019   0.115262   0.169662  21.73291   \n",
      "3   QSO  0.916071      0.000296   19.29613   0.012580   0.177208  19.10373   \n",
      "4   QSO  1.871305      0.000318   19.30308   0.012689   0.158918  19.14062   \n",
      "\n",
      "    red_err   red_ext       velocity  \n",
      "0  0.093848  0.037086  251920.860836  \n",
      "1  0.011655  0.061361  261628.811052  \n",
      "2  0.088681  0.117372  148853.427213  \n",
      "3  0.012747  0.122592  171438.185701  \n",
      "4  0.013156  0.109939  234933.147635     class  redshift  redshift_err  green_mag  green_err  green_ext   red_mag  \\\n",
      "0   QSO  2.257472      0.000309   20.59380   0.022955   0.236027  20.15752   \n",
      "1   QSO  1.886732      0.000878   19.24776   0.011284   0.092125  19.07683   \n",
      "2   QSO  1.203763      0.000233   19.31109   0.010674   0.158314  18.89059   \n",
      "3   QSO  0.497558      0.000048   21.95524   0.112343   0.102003  20.59923   \n",
      "4   QSO  2.530058      0.000667   21.19267   0.039986   0.242026  21.06778   \n",
      "\n",
      "    red_err   red_ext       velocity  \n",
      "0  0.021144  0.163283  248153.622282  \n",
      "1  0.014418  0.063732  235550.448205  \n",
      "2  0.010223  0.109521  197414.312302  \n",
      "3  0.052202  0.070565  114888.260146  \n",
      "4  0.048025  0.167432  255251.106600  \n"
     ]
    }
   ],
   "source": [
    "#lets start with velocity and its associated errors and adding it to each respective data frame\n",
    "c=299792.458 #kilometers/second\n",
    "i=0\n",
    "while i<len(cleandata):\n",
    "    vq=[]\n",
    "    vg=[]\n",
    "    dfg=galaxy[i]\n",
    "    dfq=qso[i]\n",
    "    for a in dfg['redshift']:\n",
    "        vg.append(c*((((a+1)**2)-1)/(((a+1)**2)+1)))\n",
    "    for n in dfq['redshift']:\n",
    "        vq.append(c*((((n+1)**2)-1)/(((n+1)**2)+1))) \n",
    "    dfg['velocity']=vg\n",
    "    dfq['velocity']=vq\n",
    "    qso[i]=dfq\n",
    "    galaxy[i]=dfg\n",
    "    i+=1\n",
    "print(galaxy[0].head(),galaxy[-1].head(),qso[0].head(),qso[-1].head())\n",
    "\n",
    "#now we have two lists of 20 data frames with the velocity added"
   ]
  },
  {
   "cell_type": "code",
   "execution_count": 7,
   "metadata": {},
   "outputs": [
    {
     "name": "stdout",
     "output_type": "stream",
     "text": [
      "    class  redshift  redshift_err  green_mag  green_err  green_ext   red_mag  \\\n",
      "0  GALAXY  0.185702      0.000051   20.27926   0.033027   0.404524  19.03009   \n",
      "1  GALAXY  0.353038      0.000067   20.41617   0.051364   0.068213  18.74046   \n",
      "2  GALAXY  0.527042      0.000099   22.38628   0.191882   0.094343  20.59653   \n",
      "3  GALAXY  0.397942      0.000153   20.55792   0.069158   0.284085  18.78533   \n",
      "4  GALAXY  0.613297      0.000307   21.39559   0.219298   0.173314  19.90453   \n",
      "\n",
      "    red_err   red_ext       velocity          Flux  \n",
      "0  0.017111  0.279848   50577.069224  6.947397e-16  \n",
      "1  0.017799  0.047189   87978.193108  9.071396e-16  \n",
      "2  0.058532  0.065266  119837.262632  1.641520e-16  \n",
      "3  0.023086  0.196528   96835.245139  8.704145e-16  \n",
      "4  0.089911  0.119898  133367.184223  3.104889e-16       class  redshift  redshift_err  green_mag  green_err  green_ext   red_mag  \\\n",
      "0  GALAXY  0.336438      0.000071   19.59651   0.030831   0.127218  17.79514   \n",
      "1  GALAXY  0.524660      0.000178   22.52008   0.149141   0.182124  20.87798   \n",
      "2  GALAXY  0.309384      0.000047   20.22203   0.034894   0.092195  18.59347   \n",
      "3  GALAXY  0.490409      0.000115   21.91200   0.140250   0.139424  20.23067   \n",
      "4  GALAXY  0.488689      0.000135   21.99587   0.136640   0.039691  20.14574   \n",
      "\n",
      "    red_err   red_ext       velocity          Flux  \n",
      "0  0.010343  0.088009   84584.079993  2.166717e-15  \n",
      "1  0.055673  0.125992  119443.909494  1.266678e-16  \n",
      "2  0.013580  0.063780   78909.130981  1.038652e-15  \n",
      "3  0.048356  0.096453  113662.257321  2.299271e-16  \n",
      "4  0.041446  0.027458  113365.697057  2.486349e-16     class  redshift  redshift_err  green_mag  green_err  green_ext   red_mag  \\\n",
      "0   QSO  2.394828      0.000523   21.59155   0.052753   0.053609  21.73227   \n",
      "1   QSO  2.835478      0.000364   19.03116   0.010645   0.088698  18.89552   \n",
      "2   QSO  0.724055      0.262761   22.39019   0.115262   0.169662  21.73291   \n",
      "3   QSO  0.916071      0.000296   19.29613   0.012580   0.177208  19.10373   \n",
      "4   QSO  1.871305      0.000318   19.30308   0.012689   0.158918  19.14062   \n",
      "\n",
      "    red_err   red_ext       velocity          Flux  \n",
      "0  0.093848  0.037086  251920.860836  5.767002e-17  \n",
      "1  0.011655  0.061361  261628.811052  7.864120e-16  \n",
      "2  0.088681  0.117372  148853.427213  5.763604e-17  \n",
      "3  0.012747  0.122592  171438.185701  6.491815e-16  \n",
      "4  0.013156  0.109939  234933.147635  6.274948e-16     class  redshift  redshift_err  green_mag  green_err  green_ext   red_mag  \\\n",
      "0   QSO  2.257472      0.000309   20.59380   0.022955   0.236027  20.15752   \n",
      "1   QSO  1.886732      0.000878   19.24776   0.011284   0.092125  19.07683   \n",
      "2   QSO  1.203763      0.000233   19.31109   0.010674   0.158314  18.89059   \n",
      "3   QSO  0.497558      0.000048   21.95524   0.112343   0.102003  20.59923   \n",
      "4   QSO  2.530058      0.000667   21.19267   0.039986   0.242026  21.06778   \n",
      "\n",
      "    red_err   red_ext       velocity          Flux  \n",
      "0  0.021144  0.163283  248153.622282  2.459519e-16  \n",
      "1  0.014418  0.063732  235550.448205  6.654664e-16  \n",
      "2  0.010223  0.109521  197414.312302  7.899910e-16  \n",
      "3  0.052202  0.070565  114888.260146  1.637443e-16  \n",
      "4  0.048025  0.167432  255251.106600  1.063521e-16  \n"
     ]
    }
   ],
   "source": [
    "#now we do this to create a Flux column, then use it to create the distance\n",
    "Fsun=1361 #watts/meter^2\n",
    "msun=-26.7\n",
    "i=0\n",
    "while i<20:\n",
    "    fluxq=[]\n",
    "    fluxg=[]\n",
    "    dfg=galaxy[i]\n",
    "    dfq=qso[i]\n",
    "    for a in dfg['red_mag']:\n",
    "        flux = Fsun*(10**(.4*(msun-a)))\n",
    "        fluxg.append(flux)\n",
    "    for n in dfq['red_mag']:\n",
    "        flux2 = Fsun*10**(.4*(msun-n))\n",
    "        fluxq.append(flux2)\n",
    "    \n",
    "    dfg['Flux']=fluxg\n",
    "    dfq['Flux']=fluxq\n",
    "    qso[i]=dfq\n",
    "    galaxy[i]=dfg\n",
    "    i+=1\n",
    "print(galaxy[0].head(),galaxy[-1].head(),qso[0].head(),qso[-1].head())"
   ]
  },
  {
   "cell_type": "code",
   "execution_count": 8,
   "metadata": {},
   "outputs": [
    {
     "name": "stdout",
     "output_type": "stream",
     "text": [
      "    class  redshift  redshift_err  green_mag  green_err  green_ext   red_mag  \\\n",
      "0  GALAXY  0.185702      0.000051   20.27926   0.033027   0.404524  19.03009   \n",
      "1  GALAXY  0.353038      0.000067   20.41617   0.051364   0.068213  18.74046   \n",
      "2  GALAXY  0.527042      0.000099   22.38628   0.191882   0.094343  20.59653   \n",
      "3  GALAXY  0.397942      0.000153   20.55792   0.069158   0.284085  18.78533   \n",
      "4  GALAXY  0.613297      0.000307   21.39559   0.219298   0.173314  19.90453   \n",
      "\n",
      "    red_err   red_ext       velocity          Flux  distance  \n",
      "0  0.017111  0.279848   50577.069224  6.947397e-16  0.780034  \n",
      "1  0.017799  0.047189   87978.193108  9.071396e-16  0.682634  \n",
      "2  0.058532  0.065266  119837.262632  1.641520e-16  1.604729  \n",
      "3  0.023086  0.196528   96835.245139  8.704145e-16  0.696886  \n",
      "4  0.089911  0.119898  133367.184223  3.104889e-16  1.166814       class  redshift  redshift_err  green_mag  green_err  green_ext   red_mag  \\\n",
      "0  GALAXY  0.336438      0.000071   19.59651   0.030831   0.127218  17.79514   \n",
      "1  GALAXY  0.524660      0.000178   22.52008   0.149141   0.182124  20.87798   \n",
      "2  GALAXY  0.309384      0.000047   20.22203   0.034894   0.092195  18.59347   \n",
      "3  GALAXY  0.490409      0.000115   21.91200   0.140250   0.139424  20.23067   \n",
      "4  GALAXY  0.488689      0.000135   21.99587   0.136640   0.039691  20.14574   \n",
      "\n",
      "    red_err   red_ext       velocity          Flux  distance  \n",
      "0  0.010343  0.088009   84584.079993  2.166717e-15  0.441696  \n",
      "1  0.055673  0.125992  119443.909494  1.266678e-16  1.826803  \n",
      "2  0.013580  0.063780   78909.130981  1.038652e-15  0.637954  \n",
      "3  0.048356  0.096453  113662.257321  2.299271e-16  1.355906  \n",
      "4  0.041446  0.027458  113365.697057  2.486349e-16  1.303898     class  redshift  redshift_err  green_mag  green_err  green_ext   red_mag  \\\n",
      "0   QSO  2.394828      0.000523   21.59155   0.052753   0.053609  21.73227   \n",
      "1   QSO  2.835478      0.000364   19.03116   0.010645   0.088698  18.89552   \n",
      "2   QSO  0.724055      0.262761   22.39019   0.115262   0.169662  21.73291   \n",
      "3   QSO  0.916071      0.000296   19.29613   0.012580   0.177208  19.10373   \n",
      "4   QSO  1.871305      0.000318   19.30308   0.012689   0.158918  19.14062   \n",
      "\n",
      "    red_err   red_ext       velocity          Flux      distance  \n",
      "0  0.093848  0.037086  251920.860836  5.767002e-17  12107.783595  \n",
      "1  0.011655  0.061361  261628.811052  7.864120e-16   3278.797914  \n",
      "2  0.088681  0.117372  148853.427213  5.763604e-17  12111.352659  \n",
      "3  0.012747  0.122592  171438.185701  6.491815e-16   3608.748780  \n",
      "4  0.013156  0.109939  234933.147635  6.274948e-16   3670.579630     class  redshift  redshift_err  green_mag  green_err  green_ext   red_mag  \\\n",
      "0   QSO  2.257472      0.000309   20.59380   0.022955   0.236027  20.15752   \n",
      "1   QSO  1.886732      0.000878   19.24776   0.011284   0.092125  19.07683   \n",
      "2   QSO  1.203763      0.000233   19.31109   0.010674   0.158314  18.89059   \n",
      "3   QSO  0.497558      0.000048   21.95524   0.112343   0.102003  20.59923   \n",
      "4   QSO  2.530058      0.000667   21.19267   0.039986   0.242026  21.06778   \n",
      "\n",
      "    red_err   red_ext       velocity          Flux     distance  \n",
      "0  0.021144  0.163283  248153.622282  2.459519e-16  5862.929205  \n",
      "1  0.014418  0.063732  235550.448205  6.654664e-16  3564.319693  \n",
      "2  0.010223  0.109521  197414.312302  7.899910e-16  3271.362343  \n",
      "3  0.052202  0.070565  114888.260146  1.637443e-16  7185.494315  \n",
      "4  0.048025  0.167432  255251.106600  1.063521e-16  8915.930000  \n"
     ]
    }
   ],
   "source": [
    "Lqso=(10**38) #watts\n",
    "Lgal=5*(10**30) #watts\n",
    "mpc=3.068*(10**22)#converting meters to megaparsecs\n",
    "i=0\n",
    "while i<20:\n",
    "    dq=[]\n",
    "    dg=[]\n",
    "    dfg=galaxy[i]\n",
    "    dfq=qso[i]\n",
    "    for a in dfg['Flux']:\n",
    "        distance = ((Lgal/(4*np.pi*a))**(.5))/mpc\n",
    "        dg.append(distance)\n",
    "    for n in dfq['Flux']:\n",
    "        distance2 = ((Lqso/(4*np.pi*n))**(.5))/mpc\n",
    "        dq.append(distance2)\n",
    "    \n",
    "    dfg['distance']=dg\n",
    "    dfq['distance']=dq\n",
    "    qso[i]=dfq\n",
    "    galaxy[i]=dfg\n",
    "    i+=1\n",
    "print(galaxy[0].head(),galaxy[-1].head(),qso[0].head(),qso[-1].head())"
   ]
  },
  {
   "cell_type": "code",
   "execution_count": 11,
   "metadata": {},
   "outputs": [],
   "source": [
    "#Putting the quasar and galaxy data back together with its appropriate partner\n",
    "finaldata = []\n",
    "\n",
    "for i in range(len(qso)):\n",
    "    frames = [qso[i], galaxy[i]]\n",
    "    whole_data = pd.concat(frames)\n",
    "    finaldata.append(whole_data)"
   ]
  },
  {
   "cell_type": "code",
   "execution_count": 12,
   "metadata": {},
   "outputs": [
    {
     "data": {
      "image/png": "[encoded data removed]",
      "text/plain": [
       "<Figure size 432x288 with 1 Axes>"
      ]
     },
     "metadata": {
      "needs_background": "light"
     },
     "output_type": "display_data"
    }
   ],
   "source": [
    "#Scatterplot of the first dataset to see what we're dealing with here \n",
    "\n",
    "import matplotlib.pyplot as plt\n",
    "\n",
    "plt.plot(finaldata[0][\"velocity\"], finaldata[0][\"distance\"], \"ro\")\n",
    "plt.show()"
   ]
  },
  {
   "cell_type": "code",
   "execution_count": 13,
   "metadata": {},
   "outputs": [
    {
     "data": {
      "text/html": [
       "<table class=\"simpletable\">\n",
       "<caption>OLS Regression Results</caption>\n",
       "<tr>\n",
       "  <th>Dep. Variable:</th>    <td>finaldata[0]['velocity']</td> <th>  R-squared:         </th>  <td>   0.510</td>  \n",
       "</tr>\n",
       "<tr>\n",
       "  <th>Model:</th>                       <td>OLS</td>           <th>  Adj. R-squared:    </th>  <td>   0.510</td>  \n",
       "</tr>\n",
       "<tr>\n",
       "  <th>Method:</th>                 <td>Least Squares</td>      <th>  F-statistic:       </th>  <td>1.464e+04</td> \n",
       "</tr>\n",
       "<tr>\n",
       "  <th>Date:</th>                 <td>Wed, 17 Apr 2019</td>     <th>  Prob (F-statistic):</th>   <td>  0.00</td>   \n",
       "</tr>\n",
       "<tr>\n",
       "  <th>Time:</th>                     <td>10:52:45</td>         <th>  Log-Likelihood:    </th> <td>-1.7192e+05</td>\n",
       "</tr>\n",
       "<tr>\n",
       "  <th>No. Observations:</th>          <td> 14089</td>          <th>  AIC:               </th>  <td>3.438e+05</td> \n",
       "</tr>\n",
       "<tr>\n",
       "  <th>Df Residuals:</th>              <td> 14087</td>          <th>  BIC:               </th>  <td>3.439e+05</td> \n",
       "</tr>\n",
       "<tr>\n",
       "  <th>Df Model:</th>                  <td>     1</td>          <th>                     </th>      <td> </td>     \n",
       "</tr>\n",
       "<tr>\n",
       "  <th>Covariance Type:</th>          <td>nonrobust</td>        <th>                     </th>      <td> </td>     \n",
       "</tr>\n",
       "</table>\n",
       "<table class=\"simpletable\">\n",
       "<tr>\n",
       "              <td></td>                <th>coef</th>     <th>std err</th>      <th>t</th>      <th>P>|t|</th>  <th>[0.025</th>    <th>0.975]</th>  \n",
       "</tr>\n",
       "<tr>\n",
       "  <th>Intercept</th>                <td> 8.749e+04</td> <td>  443.589</td> <td>  197.229</td> <td> 0.000</td> <td> 8.66e+04</td> <td> 8.84e+04</td>\n",
       "</tr>\n",
       "<tr>\n",
       "  <th>finaldata[0]['distance']</th> <td>   15.6181</td> <td>    0.129</td> <td>  120.981</td> <td> 0.000</td> <td>   15.365</td> <td>   15.871</td>\n",
       "</tr>\n",
       "</table>\n",
       "<table class=\"simpletable\">\n",
       "<tr>\n",
       "  <th>Omnibus:</th>       <td>1149.922</td> <th>  Durbin-Watson:     </th> <td>   1.896</td>\n",
       "</tr>\n",
       "<tr>\n",
       "  <th>Prob(Omnibus):</th>  <td> 0.000</td>  <th>  Jarque-Bera (JB):  </th> <td> 392.916</td>\n",
       "</tr>\n",
       "<tr>\n",
       "  <th>Skew:</th>           <td>-0.113</td>  <th>  Prob(JB):          </th> <td>4.78e-86</td>\n",
       "</tr>\n",
       "<tr>\n",
       "  <th>Kurtosis:</th>       <td> 2.213</td>  <th>  Cond. No.          </th> <td>3.75e+03</td>\n",
       "</tr>\n",
       "</table><br/><br/>Warnings:<br/>[1] Standard Errors assume that the covariance matrix of the errors is correctly specified.<br/>[2] The condition number is large, 3.75e+03. This might indicate that there are<br/>strong multicollinearity or other numerical problems."
      ],
      "text/plain": [
       "<class 'statsmodels.iolib.summary.Summary'>\n",
       "\"\"\"\n",
       "                               OLS Regression Results                               \n",
       "====================================================================================\n",
       "Dep. Variable:     finaldata[0]['velocity']   R-squared:                       0.510\n",
       "Model:                                  OLS   Adj. R-squared:                  0.510\n",
       "Method:                       Least Squares   F-statistic:                 1.464e+04\n",
       "Date:                      Wed, 17 Apr 2019   Prob (F-statistic):               0.00\n",
       "Time:                              10:52:45   Log-Likelihood:            -1.7192e+05\n",
       "No. Observations:                     14089   AIC:                         3.438e+05\n",
       "Df Residuals:                         14087   BIC:                         3.439e+05\n",
       "Df Model:                                 1                                         \n",
       "Covariance Type:                  nonrobust                                         \n",
       "============================================================================================\n",
       "                               coef    std err          t      P>|t|      [0.025      0.975]\n",
       "--------------------------------------------------------------------------------------------\n",
       "Intercept                 8.749e+04    443.589    197.229      0.000    8.66e+04    8.84e+04\n",
       "finaldata[0]['distance']    15.6181      0.129    120.981      0.000      15.365      15.871\n",
       "==============================================================================\n",
       "Omnibus:                     1149.922   Durbin-Watson:                   1.896\n",
       "Prob(Omnibus):                  0.000   Jarque-Bera (JB):              392.916\n",
       "Skew:                          -0.113   Prob(JB):                     4.78e-86\n",
       "Kurtosis:                       2.213   Cond. No.                     3.75e+03\n",
       "==============================================================================\n",
       "\n",
       "Warnings:\n",
       "[1] Standard Errors assume that the covariance matrix of the errors is correctly specified.\n",
       "[2] The condition number is large, 3.75e+03. This might indicate that there are\n",
       "strong multicollinearity or other numerical problems.\n",
       "\"\"\""
      ]
     },
     "execution_count": 13,
     "metadata": {},
     "output_type": "execute_result"
    }
   ],
   "source": [
    "#Looking at the regression results of the first dataset with combined quasars and galaxies\n",
    "\n",
    "import statsmodels.formula.api as sm\n",
    "\n",
    "model = sm.ols(formula = \"finaldata[0]['velocity'] ~ finaldata[0]['distance']\", data=finaldata[0]).fit()\n",
    "model.summary()"
   ]
  },
  {
   "cell_type": "code",
   "execution_count": 16,
   "metadata": {},
   "outputs": [
    {
     "data": {
      "image/png": "[encoded data removed]",
      "text/plain": [
       "<Figure size 432x288 with 1 Axes>"
      ]
     },
     "metadata": {
      "needs_background": "light"
     },
     "output_type": "display_data"
    }
   ],
   "source": [
    "#Scatter of just galaxies from the first dataset\n",
    "plt.plot(galaxy[0][\"velocity\"], galaxy[0][\"distance\"], \"ro\")\n",
    "plt.show()"
   ]
  },
  {
   "cell_type": "code",
   "execution_count": 22,
   "metadata": {},
   "outputs": [
    {
     "data": {
      "image/png": "[encoded data removed]",
      "text/plain": [
       "<Figure size 432x288 with 1 Axes>"
      ]
     },
     "metadata": {
      "needs_background": "light"
     },
     "output_type": "display_data"
    }
   ],
   "source": [
    "#Removing outliers and replotting\n",
    "galaxy_outlierkiller = galaxy[0][galaxy[0][\"distance\"]<10]\n",
    "#Scatter of just galaxies from the first dataset\n",
    "plt.plot(galaxy_outlierkiller[\"distance\"], galaxy_outlierkiller[\"velocity\"], \"ro\")\n",
    "plt.show()"
   ]
  },
  {
   "cell_type": "code",
   "execution_count": 23,
   "metadata": {},
   "outputs": [
    {
     "data": {
      "text/html": [
       "<table class=\"simpletable\">\n",
       "<caption>OLS Regression Results</caption>\n",
       "<tr>\n",
       "  <th>Dep. Variable:</th>    <td>galaxy[0]['velocity']</td> <th>  R-squared:         </th>  <td>   0.510</td>  \n",
       "</tr>\n",
       "<tr>\n",
       "  <th>Model:</th>                     <td>OLS</td>          <th>  Adj. R-squared:    </th>  <td>   0.510</td>  \n",
       "</tr>\n",
       "<tr>\n",
       "  <th>Method:</th>               <td>Least Squares</td>     <th>  F-statistic:       </th>  <td>1.182e+04</td> \n",
       "</tr>\n",
       "<tr>\n",
       "  <th>Date:</th>               <td>Wed, 17 Apr 2019</td>    <th>  Prob (F-statistic):</th>   <td>  0.00</td>   \n",
       "</tr>\n",
       "<tr>\n",
       "  <th>Time:</th>                   <td>11:04:59</td>        <th>  Log-Likelihood:    </th> <td>-1.3372e+05</td>\n",
       "</tr>\n",
       "<tr>\n",
       "  <th>No. Observations:</th>        <td> 11367</td>         <th>  AIC:               </th>  <td>2.675e+05</td> \n",
       "</tr>\n",
       "<tr>\n",
       "  <th>Df Residuals:</th>            <td> 11365</td>         <th>  BIC:               </th>  <td>2.675e+05</td> \n",
       "</tr>\n",
       "<tr>\n",
       "  <th>Df Model:</th>                <td>     1</td>         <th>                     </th>      <td> </td>     \n",
       "</tr>\n",
       "<tr>\n",
       "  <th>Covariance Type:</th>        <td>nonrobust</td>       <th>                     </th>      <td> </td>     \n",
       "</tr>\n",
       "</table>\n",
       "<table class=\"simpletable\">\n",
       "<tr>\n",
       "            <td></td>               <th>coef</th>     <th>std err</th>      <th>t</th>      <th>P>|t|</th>  <th>[0.025</th>    <th>0.975]</th>  \n",
       "</tr>\n",
       "<tr>\n",
       "  <th>Intercept</th>             <td> 4.271e+04</td> <td>  477.280</td> <td>   89.489</td> <td> 0.000</td> <td> 4.18e+04</td> <td> 4.36e+04</td>\n",
       "</tr>\n",
       "<tr>\n",
       "  <th>galaxy[0]['distance']</th> <td> 3.815e+04</td> <td>  350.912</td> <td>  108.723</td> <td> 0.000</td> <td> 3.75e+04</td> <td> 3.88e+04</td>\n",
       "</tr>\n",
       "</table>\n",
       "<table class=\"simpletable\">\n",
       "<tr>\n",
       "  <th>Omnibus:</th>       <td>17241.205</td> <th>  Durbin-Watson:     </th>   <td>   1.970</td>  \n",
       "</tr>\n",
       "<tr>\n",
       "  <th>Prob(Omnibus):</th>  <td> 0.000</td>   <th>  Jarque-Bera (JB):  </th> <td>43800193.360</td>\n",
       "</tr>\n",
       "<tr>\n",
       "  <th>Skew:</th>           <td>-8.738</td>   <th>  Prob(JB):          </th>   <td>    0.00</td>  \n",
       "</tr>\n",
       "<tr>\n",
       "  <th>Kurtosis:</th>       <td>306.600</td>  <th>  Cond. No.          </th>   <td>    3.10</td>  \n",
       "</tr>\n",
       "</table><br/><br/>Warnings:<br/>[1] Standard Errors assume that the covariance matrix of the errors is correctly specified."
      ],
      "text/plain": [
       "<class 'statsmodels.iolib.summary.Summary'>\n",
       "\"\"\"\n",
       "                              OLS Regression Results                             \n",
       "=================================================================================\n",
       "Dep. Variable:     galaxy[0]['velocity']   R-squared:                       0.510\n",
       "Model:                               OLS   Adj. R-squared:                  0.510\n",
       "Method:                    Least Squares   F-statistic:                 1.182e+04\n",
       "Date:                   Wed, 17 Apr 2019   Prob (F-statistic):               0.00\n",
       "Time:                           11:04:59   Log-Likelihood:            -1.3372e+05\n",
       "No. Observations:                  11367   AIC:                         2.675e+05\n",
       "Df Residuals:                      11365   BIC:                         2.675e+05\n",
       "Df Model:                              1                                         \n",
       "Covariance Type:               nonrobust                                         \n",
       "=========================================================================================\n",
       "                            coef    std err          t      P>|t|      [0.025      0.975]\n",
       "-----------------------------------------------------------------------------------------\n",
       "Intercept              4.271e+04    477.280     89.489      0.000    4.18e+04    4.36e+04\n",
       "galaxy[0]['distance']  3.815e+04    350.912    108.723      0.000    3.75e+04    3.88e+04\n",
       "==============================================================================\n",
       "Omnibus:                    17241.205   Durbin-Watson:                   1.970\n",
       "Prob(Omnibus):                  0.000   Jarque-Bera (JB):         43800193.360\n",
       "Skew:                          -8.738   Prob(JB):                         0.00\n",
       "Kurtosis:                     306.600   Cond. No.                         3.10\n",
       "==============================================================================\n",
       "\n",
       "Warnings:\n",
       "[1] Standard Errors assume that the covariance matrix of the errors is correctly specified.\n",
       "\"\"\""
      ]
     },
     "execution_count": 23,
     "metadata": {},
     "output_type": "execute_result"
    }
   ],
   "source": [
    "#It seems that the farther away an object is, the faster it is moving. Good sign. \n",
    "#However, it seems the relationship in our data isn't linear. \n",
    "#Velocity appears to be related to distance in a logarithmic fashion, or perhaps to the square root of distance.\n",
    "model2 = sm.ols(formula = \"galaxy[0]['velocity'] ~ (galaxy[0]['distance'])\", data=galaxy[0]).fit()\n",
    "model2.summary()"
   ]
  },
  {
   "cell_type": "code",
   "execution_count": 30,
   "metadata": {},
   "outputs": [
    {
     "data": {
      "text/plain": [
       "0.7864966892674566"
      ]
     },
     "execution_count": 30,
     "metadata": {},
     "output_type": "execute_result"
    }
   ],
   "source": [
    "model3 = sm.ols(formula = \"galaxy[0]['velocity'] ~ np.log(galaxy[0]['distance'])\", data=galaxy[0]).fit()"
   ]
  },
  {
   "cell_type": "code",
   "execution_count": 44,
   "metadata": {},
   "outputs": [
    {
     "name": "stdout",
     "output_type": "stream",
     "text": [
      "Galaxies:  0.5515042036604383\n",
      "0.0008618822815965012\n",
      "Quasars:  0.08660226211032782\n",
      "2.6958211656178917e-05\n",
      "Together:  0.508741712798362\n",
      "5.6408754527609005e-05\n"
     ]
    }
   ],
   "source": [
    "#Getting a flawed picture of the data just to see what we're dealing with. Nothing is weighted appropriately.\n",
    "\n",
    "Galaxy_R_Squared = []\n",
    "QSO_R_Squared = []\n",
    "Total_R_Squared = []\n",
    "i = 0\n",
    "j = 0\n",
    "k = 0\n",
    "while (i < len(galaxy)):\n",
    "    try:\n",
    "        v = galaxy[i]['velocity']\n",
    "        d = galaxy[i]['distance']\n",
    "        data = galaxy[i]\n",
    "        model4 = sm.ols(formula = \"v ~ d\", data=data).fit()\n",
    "        Galaxy_R_Squared.append(model4.rsquared)\n",
    "        i += 1\n",
    "    except:\n",
    "        break\n",
    "    \n",
    "while (j < len(qso)):\n",
    "    try:\n",
    "        v = qso[j]['velocity']\n",
    "        d = qso[j]['distance']\n",
    "        data = qso[j]\n",
    "        model5 = sm.ols(formula = \"v ~ d\", data=data).fit()\n",
    "        QSO_R_Squared.append(model5.rsquared)\n",
    "        j += 1\n",
    "    except:\n",
    "        break\n",
    "        \n",
    "while (k < len(finaldata)):\n",
    "    try:\n",
    "        v = finaldata[k]['velocity']\n",
    "        d = finaldata[k]['distance']\n",
    "        data = finaldata[k]\n",
    "        model5 = sm.ols(formula = \"v ~ d\", data=data).fit()\n",
    "        Total_R_Squared.append(model5.rsquared)\n",
    "        k += 1\n",
    "    except:\n",
    "        break\n",
    "    \n",
    "print(\"Galaxies: \",np.mean(Galaxy_R_Squared))\n",
    "print(np.var(Galaxy_R_Squared))\n",
    "print(\"Quasars: \",np.mean(QSO_R_Squared))\n",
    "print(np.var(QSO_R_Squared))\n",
    "print(\"Together: \",np.mean(Total_R_Squared))\n",
    "print(np.var(Total_R_Squared))"
   ]
  },
  {
   "cell_type": "code",
   "execution_count": null,
   "metadata": {},
   "outputs": [],
   "source": [
    "#It seems like galaxies perform decently well, with an average R Squared value of .5515 across all of the sets of data.\n",
    "#Let's see how the larger sets perform compared to the smaller ones.\n",
    "\n"
   ]
  }
 ],
 "metadata": {
  "kernelspec": {
   "display_name": "Python 3",
   "language": "python",
   "name": "python3"
  },
  "language_info": {
   "codemirror_mode": {
    "name": "ipython",
    "version": 3
   },
   "file_extension": ".py",
   "mimetype": "text/x-python",
   "name": "python",
   "nbconvert_exporter": "python",
   "pygments_lexer": "ipython3",
   "version": "3.7.1"
  }
 },
 "nbformat": 4,
 "nbformat_minor": 2
}
