{
 "cells": [
  {
   "cell_type": "markdown",
   "metadata": {},
   "source": [
    "# Using SDSS Data to confirm expansion rate of Universe\n",
    "Kian Malone"
   ]
  },
  {
   "cell_type": "markdown",
   "metadata": {},
   "source": [
    "***Data***\n",
    "\n",
    "We will obtain out data from SDSS\n",
    "https://www.sdss.org/dr15/data_access/ \n",
    "http://skyserver.sdss.org/dr15/en/help/docs/sql_help.aspx \n",
    "http://skyserver.sdss.org/dr15/en/home.aspx "
   ]
  }
 ],
 "metadata": {
  "kernelspec": {
   "display_name": "Python 3",
   "language": "python",
   "name": "python3"
  },
  "language_info": {
   "codemirror_mode": {
    "name": "ipython",
    "version": 3
   },
   "file_extension": ".py",
   "mimetype": "text/x-python",
   "name": "python",
   "nbconvert_exporter": "python",
   "pygments_lexer": "ipython3",
   "version": "3.7.1"
  }
 },
 "nbformat": 4,
 "nbformat_minor": 2
}
