{
 "cells": [
  {
   "cell_type": "markdown",
   "metadata": {},
   "source": [
    "***Project title\n",
    "Kian Malone"
   ]
  },
  {
   "cell_type": "markdown",
   "metadata": {},
   "source": [
    "***Data***\n",
    "\n",
    "We will obtain our data from the Sloan Digital Sky Survey, or SDSS. They provide a multi-Terabyte dataset of optical and infrared spectra on nearby stars and galaxies. The University of Utah has contributed to the project!\n",
    "\n",
    "https://www.sdss.org/dr15/data_access/ \n",
    "\n",
    "All SDSS data is available to the public. SDSS provides all data free of charge. \"We would like to show you the beauty of the universe, and share with you our excitement as we build the largest map in the history of the world.\" (http://skyserver.sdss.org/dr15/en/home.aspx)\n",
    "\n",
    "\n",
    "Data should include:\n",
    "..* Redshift values for nearby stars and galaxies\n",
    "..* Optical and Infrared spectra data\n",
    "..* More values as determined necessary during the execution of the project"
   ]
  },
  {
   "cell_type": "markdown",
   "metadata": {},
   "source": [
    "***Ethical Considerations***\n",
    "\n",
    "This project should not run into any major ethical problems. We aren't modifying any genetic code or manipulating human behavior. We're just looking at the Universe around us!\n",
    "\n",
    "Perhaps, while running our analysis, we will discover intelligent extraterrestrial life. That would probably lead to several ethical dillemas. We aren't too worried about that, though."
   ]
  },
  {
   "cell_type": "markdown",
   "metadata": {},
   "source": [
    "***Data Processing***\n",
    "\n",
    "We plan on learning some basics of SQL in order to obtain raw data and get it into a .csv format that is readable and cleanable in Python/Pandas:\n",
    "\n",
    "http://skyserver.sdss.org/dr15/en/help/docs/sql_help.aspx \n",
    "\n",
    "We will potentially need to combine several data sets to obtain all of the information we need to complete the project.\n",
    "\n",
    "The data will be raw from telescope readings, and will need to be heavily cleaned and processed into a nice Pandas dataframe for analysis.\n",
    "\n",
    "Since this is physics data, many unit conversions on the data will probably be necessary as well."
   ]
  },
  {
   "cell_type": "markdown",
   "metadata": {},
   "source": [
    "***Exploratory Analysis***\n",
    "\n",
    "Once clean data is obtained, we plan to present the following exploratory analysis:\n",
    "\n",
    "..* A quick overall data summary with Quartiles, Standard deviations, etc... for each variable in the set, accompanied with interpretation.\n",
    "\n",
    "..* Experimental mean value for expansion of the Universe (in kilometers per second  per megaparsec).\n",
    "\n",
    "..* 95% Confidence Interval for the mean value of the rate of expansion of the Universe.\n",
    "\n",
    "..* Correlation matrix with scatter plots for appropriate variables, with interpretation."
   ]
  }
 ],
 "metadata": {
  "kernelspec": {
   "display_name": "Python 3",
   "language": "python",
   "name": "python3"
  },
  "language_info": {
   "codemirror_mode": {
    "name": "ipython",
    "version": 3
   },
   "file_extension": ".py",
   "mimetype": "text/x-python",
   "name": "python",
   "nbconvert_exporter": "python",
   "pygments_lexer": "ipython3",
   "version": "3.7.1"
  }
 },
 "nbformat": 4,
 "nbformat_minor": 2
}
